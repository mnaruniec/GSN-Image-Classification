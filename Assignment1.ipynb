{
 "cells": [
  {
   "cell_type": "code",
   "execution_count": 1,
   "metadata": {},
   "outputs": [],
   "source": [
    "!/bin/bash -c \\\n",
    "\"if [ ! -f dnn2020-1.zip ]; then wget https://www.mimuw.edu.pl/~ciebie/dnn2020-1.zip; fi\"\n",
    "\n",
    "!/bin/bash -c \\\n",
    "\"if [ ! -d dnn2020-1 ]; then unzip dnn2020-1.zip; fi\""
   ]
  },
  {
   "cell_type": "code",
   "execution_count": 2,
   "metadata": {},
   "outputs": [
    {
     "data": {
      "text/plain": [
       "1"
      ]
     },
     "execution_count": 2,
     "metadata": {},
     "output_type": "execute_result"
    }
   ],
   "source": [
    "import torch\n",
    "torch.cuda.device_count()"
   ]
  },
  {
   "cell_type": "markdown",
   "metadata": {},
   "source": [
    "# Task 1 - pre analysis (0.5 points)\n",
    "\n",
    "**Take a look (with an eye) at the data set and describe it. Does it look easy or difficult? Is the data properly labeled? What accuracy do you expect as a result and why?**"
   ]
  },
  {
   "cell_type": "markdown",
   "metadata": {},
   "source": [
    "The dataset looks difficult to me.\n",
    "\n",
    "I examined ten directories of the test set. At least nine of them contained pictures of wrong people. In most of them there were more than five pictures which either were wrong or I could not tell if they were correct. At times I believed the label was correct, but was still surprised how the person looked at the time. It's not always an easy task even for a human.\n",
    "\n",
    "Even if we ignore these extreme examples, the dataset is very divergent. Within each class, there are pictures of people with different hairstyles, ages, makeups, glasses and facial expressions. There is a wide range of angles from which the pictures were taken, as well as image resolutions. There are also black and white pictures. Some of the images contain more than one person.\n",
    "\n",
    "Intuitively, the task of telling apart different people's faces seems much more difficult, than e.g. telling apart people and cars. The differences are much more subtle. That's why I don't expect accuracy much higher than the expected 75% within the constraints that we have."
   ]
  },
  {
   "cell_type": "markdown",
   "metadata": {},
   "source": [
    "# Task 2 - implementation (1.5 point)\n",
    "\n",
    "* **Implement a convolutional neural network.**\n",
    "* **The network should consist of no more than four convolutional layers and no more than two fully connected layers.**\n",
    "* **The neural networks should have two versions, one with batch normalization and another without it. Don’t use BatchNorm2d from nn module, implement batchnorm by basic operations (using only simple mathematical operations like +,-, ·, / and matrix multiplication) instead - it is fine if you use the train mode even for the test check.**"
   ]
  },
  {
   "cell_type": "code",
   "execution_count": 1,
   "metadata": {},
   "outputs": [],
   "source": [
    "import torch\n",
    "\n",
    "from torch.nn import Parameter\n",
    "\n",
    "\n",
    "class BatchNorm(torch.nn.Module):\n",
    "    eps = 1e-05\n",
    "\n",
    "    def __init__(self, parameter_shape, sum_dimensions):\n",
    "        super().__init__()\n",
    "        self.parameter_shape = parameter_shape\n",
    "        self.sum_dimensions = sum_dimensions\n",
    "        self.alpha = Parameter(torch.ones(*parameter_shape), requires_grad=True)\n",
    "        self.beta = Parameter(torch.zeros(*parameter_shape), requires_grad=True)\n",
    "\n",
    "    def forward(self, x):\n",
    "        mean = torch.mean(x, dim=self.sum_dimensions, keepdim=True)\n",
    "\n",
    "        var = (x - mean) ** 2\n",
    "        var = torch.mean(var, dim=self.sum_dimensions, keepdim=True)\n",
    "\n",
    "        assert mean.shape == self.parameter_shape\n",
    "        assert var.shape == self.parameter_shape\n",
    "\n",
    "        normalized = (x - mean) / torch.sqrt(var + self.eps)\n",
    "\n",
    "        assert normalized.shape == x.shape\n",
    "\n",
    "        return self.alpha * normalized + self.beta\n",
    "\n",
    "\n",
    "class BatchNorm1d(BatchNorm):\n",
    "    def __init__(self, num_features):\n",
    "        super().__init__(parameter_shape=(1, num_features), sum_dimensions=[0])\n",
    "\n",
    "\n",
    "class BatchNorm2d(BatchNorm):\n",
    "    def __init__(self, num_features):\n",
    "        super().__init__(parameter_shape=(1, num_features, 1, 1), sum_dimensions=[0, 2, 3])\n"
   ]
  },
  {
   "cell_type": "code",
   "execution_count": 2,
   "metadata": {},
   "outputs": [],
   "source": [
    "import os\n",
    "import random\n",
    "\n",
    "from copy import deepcopy\n",
    "from functools import partial\n",
    "from typing import Optional, Tuple\n",
    "\n",
    "import numpy as np\n",
    "import torch\n",
    "import torchvision\n",
    "from torch import nn, optim, Tensor\n",
    "from torch.utils.data import DataLoader\n",
    "from torchvision.datasets import ImageFolder\n",
    "from matplotlib import pyplot as plt\n",
    "import seaborn as sns\n",
    "\n",
    "\n",
    "DATA_PATH = 'dnn2020-1'\n",
    "\n",
    "TRAIN_PATH = DATA_PATH + '/train'\n",
    "VALID_PATH = DATA_PATH + '/valid'\n",
    "TEST_PATH = DATA_PATH + '/test'\n",
    "\n",
    "DEFAULT_CREATE_VALID = True\n",
    "DEFAULT_VALID_SIZE = 100\n",
    "\n",
    "NUM_CLASSES = 28\n",
    "IMG_SIZE = 250\n",
    "IMG_CHANNELS = 3\n",
    "\n",
    "DEFAULT_MB_SIZE = 32\n",
    "DEFAULT_STAT_PERIOD = 100\n",
    "\n",
    "DEFAULT_NUM_EPOCHS = 15\n",
    "DEFAULT_PATIENCE = 3\n",
    "DEFAULT_EPOCH_TRAIN_EVAL = False\n",
    "DEFAULT_LR = 0.0001\n",
    "DEFAULT_WEIGHT_DECAY = 0.001\n",
    "\n",
    "DEFAULT_CONV_CHANNELS = [128, 256, 256, 512]\n",
    "DEFAULT_CONV_SIZES = [3] * 4\n",
    "DEFAULT_MAX_POOL_SIZES = [3] * 4\n",
    "DEFAULT_FC_SIZES = [1024]\n",
    "DEFAULT_DROPOUT_P = 0.2\n",
    "\n",
    "DEVICE = torch.device(\"cuda\") if torch.cuda.is_available() else torch.device(\"cpu\")\n",
    "if not torch.cuda.is_available():\n",
    "    print('WARNING! CUDA is not available - running on CPU.')\n",
    "\n",
    "\n",
    "def prepare_data_dir(create_valid=DEFAULT_CREATE_VALID, valid_size=DEFAULT_VALID_SIZE) -> None:\n",
    "    \"\"\" If validation dir does not exist, use stratified subset from training data. \"\"\"\n",
    "    if create_valid and not os.path.isdir(VALID_PATH):\n",
    "        print('Validation set not found, creating.')\n",
    "\n",
    "        os.mkdir(VALID_PATH)\n",
    "\n",
    "        for d in os.listdir(TRAIN_PATH):\n",
    "            from_path = TRAIN_PATH + '/' + d\n",
    "            to_path = VALID_PATH + '/' + d\n",
    "\n",
    "            os.mkdir(to_path)\n",
    "\n",
    "            files = os.listdir(TRAIN_PATH + '/' + d)\n",
    "            random.shuffle(files)\n",
    "\n",
    "            for f in files[:valid_size]:\n",
    "                os.rename(from_path + '/' + f, to_path + '/' + f)\n",
    "\n",
    "    elif not create_valid and os.path.isdir(VALID_PATH):\n",
    "        print('Running without validation set, but ' + VALID_PATH + 'dir found. Recreate data dir before running.')\n",
    "        exit(1)\n",
    "\n",
    "\n",
    "class PreprocessDataLoader(DataLoader):\n",
    "    def __iter__(self):\n",
    "        batches = super().__iter__()\n",
    "        for b in batches:\n",
    "            yield self.preprocess(*b)\n",
    "\n",
    "    def preprocess(self, x, y):\n",
    "        return x, y\n",
    "\n",
    "\n",
    "class GPUDataLoader(PreprocessDataLoader):\n",
    "    def preprocess(self, x, y):\n",
    "        return x.float().to(DEVICE), y.to(DEVICE)\n",
    "\n",
    "\n",
    "def load_dir(\n",
    "        dir: str,\n",
    "        mb_size,\n",
    "        drop_last,\n",
    "        shuffle=True,\n",
    "        mean_var: Optional[Tuple[Tensor, Tensor]] = None\n",
    "):\n",
    "    if not mean_var:\n",
    "        dataset = ImageFolder(dir, transform=torchvision.transforms.ToTensor())\n",
    "\n",
    "        mean = 0\n",
    "        for img, _ in dataset:\n",
    "            mean += torch.mean(img, dim=(1, 2), keepdim=True)\n",
    "\n",
    "        assert mean.shape == (IMG_CHANNELS, 1, 1)\n",
    "        mean /= len(dataset)\n",
    "\n",
    "        var = 0\n",
    "        for img, _ in dataset:\n",
    "            var += torch.sum((img - mean) ** 2, dim=(1, 2), keepdim=True) / (250 ** 2)\n",
    "\n",
    "        assert var.shape == (IMG_CHANNELS, 1, 1)\n",
    "        var /= len(dataset)\n",
    "\n",
    "        mean = torch.squeeze(mean)\n",
    "        var = torch.squeeze(var)\n",
    "\n",
    "        print('Dataset stats')\n",
    "        print('Source: ' + dir)\n",
    "        print('Mean: ' + str(mean))\n",
    "        print('Var: ' + str(var))\n",
    "    else:\n",
    "        mean, var = mean_var\n",
    "\n",
    "    dataset = ImageFolder(dir, transform=torchvision.transforms.Compose([\n",
    "        torchvision.transforms.ToTensor(),\n",
    "        torchvision.transforms.Normalize(mean=mean, std=torch.sqrt(var)),\n",
    "    ]))\n",
    "\n",
    "    return (\n",
    "        GPUDataLoader(dataset, batch_size=mb_size, shuffle=shuffle, pin_memory=True, drop_last=drop_last),\n",
    "        dataset.classes,\n",
    "    )\n",
    "\n",
    "\n",
    "def plot_confusion_matrix(cm):\n",
    "    ax = plt.subplot()\n",
    "    sns.heatmap(cm, annot=True, ax=ax)\n",
    "\n",
    "    ax.set_xlabel('Predicted labels')\n",
    "    ax.set_ylabel('True labels')\n",
    "    ax.set_title('Confusion Matrix')\n",
    "\n",
    "    plt.show()\n",
    "\n",
    "\n",
    "class CelebrityNet(torch.nn.Module):\n",
    "    def __init__(\n",
    "            self,\n",
    "            batch_norm=True,\n",
    "            custom_batch_norm=True,\n",
    "            conv_channels=DEFAULT_CONV_CHANNELS,\n",
    "            conv_sizes=DEFAULT_CONV_SIZES,\n",
    "            max_pool_sizes=DEFAULT_MAX_POOL_SIZES,\n",
    "            fc_sizes=DEFAULT_FC_SIZES,\n",
    "            dropout_p=DEFAULT_DROPOUT_P,\n",
    "    ):\n",
    "        super().__init__()\n",
    "\n",
    "        assert len(max_pool_sizes) == len(conv_sizes)\n",
    "        assert len(conv_channels) == len(conv_sizes)\n",
    "\n",
    "        img_size = IMG_SIZE\n",
    "\n",
    "        self.layers = []\n",
    "\n",
    "        for conv_size, in_channels, out_channels, pool_size in zip(\n",
    "                conv_sizes, [IMG_CHANNELS] + conv_channels, conv_channels, max_pool_sizes\n",
    "        ):\n",
    "            self.layers += [\n",
    "                nn.Conv2d(in_channels=in_channels, out_channels=out_channels, kernel_size=conv_size),\n",
    "                nn.MaxPool2d(kernel_size=pool_size),  # size 82\n",
    "                nn.ReLU(),\n",
    "            ]\n",
    "\n",
    "            if batch_norm:\n",
    "                if custom_batch_norm:\n",
    "                    self.layers.append(BatchNorm2d(num_features=out_channels))\n",
    "                else:\n",
    "                    self.layers.append(nn.BatchNorm2d(num_features=out_channels, track_running_stats=False))\n",
    "\n",
    "            self.layers.append(nn.Dropout2d(p=dropout_p))\n",
    "\n",
    "            img_size = img_size - conv_size + 1\n",
    "            img_size //= pool_size\n",
    "\n",
    "        self.layers.append(nn.Flatten())\n",
    "\n",
    "        fc_in = img_size * img_size * conv_channels[-1]\n",
    "\n",
    "        for in_size, out_size in zip([fc_in] + fc_sizes, fc_sizes):\n",
    "            self.layers += [\n",
    "                nn.Linear(in_features=in_size, out_features=out_size),\n",
    "                nn.ReLU(),\n",
    "            ]\n",
    "\n",
    "            if batch_norm:\n",
    "                if custom_batch_norm:\n",
    "                    self.layers.append(BatchNorm1d(num_features=out_size))\n",
    "                else:\n",
    "                    self.layers.append(nn.BatchNorm1d(num_features=out_size, track_running_stats=True))\n",
    "\n",
    "        self.layers.append(nn.Linear(in_features=fc_sizes[-1], out_features=NUM_CLASSES))\n",
    "\n",
    "        self.module = torch.nn.Sequential(*self.layers)\n",
    "\n",
    "    def forward(self, x: torch.Tensor):\n",
    "        return self.module(x)\n",
    "\n",
    "\n",
    "class CelebrityTrainer:\n",
    "    def __init__(\n",
    "            self,\n",
    "            optimizer_lambda = partial(optim.Adam, lr=DEFAULT_LR, weight_decay=DEFAULT_WEIGHT_DECAY, amsgrad=True),\n",
    "            mb_size=DEFAULT_MB_SIZE,\n",
    "            num_epochs=DEFAULT_NUM_EPOCHS,\n",
    "            patience=DEFAULT_PATIENCE,\n",
    "            has_valid=DEFAULT_CREATE_VALID,\n",
    "            stat_period=DEFAULT_STAT_PERIOD,\n",
    "            epoch_train_eval=DEFAULT_EPOCH_TRAIN_EVAL,\n",
    "            **net_kwargs,\n",
    "    ):\n",
    "        self.net_kwargs = net_kwargs\n",
    "\n",
    "        self.optimizer_lambda = optimizer_lambda\n",
    "\n",
    "        self.mb_size = mb_size\n",
    "        self.num_epochs = num_epochs\n",
    "        self.patience = patience\n",
    "        self.has_valid = has_valid\n",
    "        self.stat_period = stat_period\n",
    "        self.epoch_train_eval = epoch_train_eval\n",
    "\n",
    "        self.net = None\n",
    "        self.criterion = None\n",
    "        self.optimizer = None\n",
    "        self.classes = None\n",
    "        self.confusion_matrix = None\n",
    "        self.train_dl, self.valid_dl, self.test_dl = self.get_dataloaders()\n",
    "\n",
    "    def init_net(self):\n",
    "        self.net = CelebrityNet(**self.net_kwargs)\n",
    "        self.net.train()\n",
    "        self.net.to(DEVICE)\n",
    "\n",
    "        self.criterion = nn.CrossEntropyLoss()\n",
    "        self.optimizer = self.optimizer_lambda(self.net.parameters())\n",
    "\n",
    "    def get_dataloaders(self) -> (DataLoader, DataLoader, DataLoader):\n",
    "        #  calculated on previous runs\n",
    "        mean_var = (torch.tensor([0.47, 0.38, 0.32]), torch.tensor([0.3, 0.25, 0.25]))\n",
    "\n",
    "        train, cl1 = load_dir(TRAIN_PATH, mean_var=mean_var, drop_last=True, mb_size=self.mb_size)\n",
    "        valid, cl2 = load_dir(\n",
    "            VALID_PATH if self.has_valid else TEST_PATH, mean_var=mean_var, drop_last=True, mb_size=self.mb_size\n",
    "        )\n",
    "        test, cl3 = load_dir(TEST_PATH, mean_var=mean_var, drop_last=False, mb_size=self.mb_size)\n",
    "\n",
    "        assert cl1 == cl2\n",
    "        assert cl2 == cl3\n",
    "\n",
    "        self.classes = cl1\n",
    "\n",
    "        return train, valid, test\n",
    "\n",
    "    def evaluate_on(self, dataloader: DataLoader, full=False, store_cm=False) -> (float, int, float):\n",
    "        with torch.no_grad():\n",
    "            net = self.net\n",
    "            net.eval()\n",
    "\n",
    "            correct = 0\n",
    "            total = 0\n",
    "\n",
    "            running_loss = 0.\n",
    "            i = 0\n",
    "\n",
    "            if store_cm:\n",
    "                self.confusion_matrix = np.zeros((NUM_CLASSES, NUM_CLASSES), dtype=np.int)\n",
    "\n",
    "            for data in dataloader:\n",
    "                i += 1\n",
    "                images, labels = data\n",
    "                outputs = net(images)\n",
    "                _, predicted = torch.max(outputs.data, 1)\n",
    "                total += labels.size(0)\n",
    "                correct += (predicted == labels).sum().item()\n",
    "\n",
    "                loss = self.criterion(outputs, labels)\n",
    "                running_loss += loss.item()\n",
    "\n",
    "                if store_cm:\n",
    "                    for true, pred in zip(labels, predicted):\n",
    "                        self.confusion_matrix[true, pred] += 1\n",
    "\n",
    "                if not full and i >= self.stat_period:\n",
    "                    break\n",
    "\n",
    "        net.train()\n",
    "        return correct / total, total, running_loss / i\n",
    "\n",
    "    def run_evaluation(self, dataloader, ds_name: str, store_cm=False):\n",
    "        acc, total, loss = self.evaluate_on(dataloader, full=True, store_cm=store_cm)\n",
    "\n",
    "        print(f'{ds_name} stats: acc: {(100 * acc):.2f}%, loss: {loss:.4f}')\n",
    "\n",
    "        return acc, loss\n",
    "\n",
    "    def train_batch(self, data):\n",
    "        inputs, labels = data\n",
    "\n",
    "        self.net.train()\n",
    "        self.optimizer.zero_grad()\n",
    "\n",
    "        outputs = self.net(inputs)\n",
    "        loss = self.criterion(outputs, labels)\n",
    "\n",
    "        loss.backward()\n",
    "        self.optimizer.step()\n",
    "\n",
    "        return loss.item()\n",
    "\n",
    "    def train(self, reset_net=True, plot_loss=True):\n",
    "        if reset_net:\n",
    "            self.init_net()\n",
    "\n",
    "        train_losses = []\n",
    "        valid_losses = []\n",
    "        epoch_losses = []\n",
    "        epoch_x = 0\n",
    "        epoch_xs = []\n",
    "\n",
    "        last_epoch = 0\n",
    "        best_state_dict = None\n",
    "        best_epoch = 0\n",
    "        best_epoch_loss = 10 ** 9\n",
    "\n",
    "        try:\n",
    "            for epoch in range(1, self.num_epochs + 1):\n",
    "                print(f'EPOCH {epoch}')\n",
    "\n",
    "                train_loss = 0.0\n",
    "                last_epoch = epoch\n",
    "\n",
    "                for i, data in enumerate(self.train_dl, 0):\n",
    "                    train_loss += self.train_batch(data)\n",
    "\n",
    "                    if i % self.stat_period == self.stat_period - 1:\n",
    "                        epoch_x += 1\n",
    "\n",
    "                        train_loss = train_loss / self.stat_period\n",
    "                        train_losses.append(train_loss)\n",
    "\n",
    "                        acc, total, valid_loss = self.evaluate_on(self.valid_dl)\n",
    "\n",
    "                        valid_losses.append(valid_loss)\n",
    "\n",
    "                        print('Epoch %d, batch %d, train loss: %.4f, valid loss: %.4f' %\n",
    "                              (epoch, i + 1, train_loss, valid_loss))\n",
    "\n",
    "                        train_loss = 0.0\n",
    "\n",
    "                _, epoch_loss = self.run_evaluation(self.valid_dl, 'VALID')\n",
    "\n",
    "                epoch_losses.append(epoch_loss)\n",
    "                epoch_xs.append(epoch_x)\n",
    "\n",
    "                # early stopping & snapshotting\n",
    "                if epoch_loss < best_epoch_loss:\n",
    "                    best_epoch_loss = epoch_loss\n",
    "                    best_epoch = epoch\n",
    "                    best_state_dict = deepcopy(self.net.state_dict())\n",
    "                elif len(epoch_losses) > self.patience:\n",
    "                    if all((l > best_epoch_loss for l in epoch_losses[-(self.patience + 1):])):\n",
    "                        print(f'No improvement in last {self.patience + 1} epochs, early stopping.')\n",
    "                        break\n",
    "\n",
    "                if self.epoch_train_eval:\n",
    "                    self.run_evaluation(self.train_dl, 'TRAIN')\n",
    "\n",
    "        finally:\n",
    "            if plot_loss:\n",
    "                plt.plot(\n",
    "                    range(len(train_losses)), train_losses, 'r',\n",
    "                    range(len(valid_losses)), valid_losses, 'b',\n",
    "                    epoch_xs, epoch_losses, 'g',\n",
    "                )\n",
    "                plt.show()\n",
    "\n",
    "            if best_state_dict and best_epoch != last_epoch:\n",
    "                print(f'Restoring snapshot from epoch {best_epoch} with valid loss: {best_epoch_loss:.4f}')\n",
    "                self.net.load_state_dict(best_state_dict)\n",
    "\n",
    "            acc, loss = self.run_evaluation(self.test_dl, 'TEST', store_cm=True)\n",
    "            self.run_evaluation(self.train_dl, 'TRAIN')\n",
    "\n",
    "            return acc, loss\n"
   ]
  },
  {
   "cell_type": "markdown",
   "metadata": {},
   "source": [
    "* **Describe your design.**"
   ]
  },
  {
   "cell_type": "markdown",
   "metadata": {},
   "source": [
    "The network consists of 4 convolution layers and 2 fully connected layers. Convolution layers have non-decreasing number of channels - 128, 256, 256, 512 - while the hidden FC layer has 1024 neurons. I use ReLU as the activation function.\n",
    "\n",
    "As displayed on the loss graph below, the training and validation losses split at some point. It looks kind of like the model might be too large and overfitting, but the validation loss is still slowly decreasing. I did not manage to create a model which would be smaller, avoid the split and achieve better accuracy in the 15 epoch limit. It seems like expanding the model actually helps the accuracy.\n",
    "\n",
    "I added dropout with p = 0.2 to every layer. It stabilizes the loss diagram and prevents sudden spikes, but larger p decreases the final accuracy.\n",
    "\n",
    "For the training I am using the Adam optimizer with amsgrad option, but as experiments below show, the optimizer makes little difference.\n",
    "I took a stratified validation set with 100 samples from each class in the training set. The learning uses early stopping with patience = 3 and snapshotting, but it's rarely used in the 15 epoch cap.\n",
    "\n",
    "I normalize the datasets with mean and variance calculated on the training set."
   ]
  },
  {
   "cell_type": "code",
   "execution_count": 5,
   "metadata": {},
   "outputs": [],
   "source": [
    "prepare_data_dir()"
   ]
  },
  {
   "cell_type": "markdown",
   "metadata": {},
   "source": [
    "# Task 3 - experiments (1 points)\n",
    "\n",
    "Using no more than 15 epochs perform experiments. Answer the following questions:\n",
    "* **What is the accuracy and average loss of your network? Is loss different on test and train? The best version of your network should reach at least 75% accuracy on the test set. Illustrate your results with graphs.**"
   ]
  },
  {
   "cell_type": "code",
   "execution_count": 6,
   "metadata": {
    "scrolled": false
   },
   "outputs": [
    {
     "name": "stdout",
     "output_type": "stream",
     "text": [
      "EPOCH 1\n",
      "Epoch 1, batch 100, train loss: 2.9735, valid loss: 2.5539\n",
      "Epoch 1, batch 200, train loss: 2.5509, valid loss: 2.2253\n",
      "VALID stats: acc: 41.99%, loss: 2.0412\n",
      "EPOCH 2\n",
      "Epoch 2, batch 100, train loss: 1.9599, valid loss: 1.8287\n",
      "Epoch 2, batch 200, train loss: 1.8353, valid loss: 1.6549\n",
      "VALID stats: acc: 55.57%, loss: 1.5725\n",
      "EPOCH 3\n",
      "Epoch 3, batch 100, train loss: 1.4557, valid loss: 1.4534\n",
      "Epoch 3, batch 200, train loss: 1.3649, valid loss: 1.3289\n",
      "VALID stats: acc: 64.04%, loss: 1.2786\n",
      "EPOCH 4\n",
      "Epoch 4, batch 100, train loss: 1.1412, valid loss: 1.2300\n",
      "Epoch 4, batch 200, train loss: 1.0514, valid loss: 1.1658\n",
      "VALID stats: acc: 68.43%, loss: 1.1258\n",
      "EPOCH 5\n",
      "Epoch 5, batch 100, train loss: 0.8530, valid loss: 1.0499\n",
      "Epoch 5, batch 200, train loss: 0.8712, valid loss: 1.0333\n",
      "VALID stats: acc: 71.05%, loss: 0.9891\n",
      "EPOCH 6\n",
      "Epoch 6, batch 100, train loss: 0.6904, valid loss: 0.9505\n",
      "Epoch 6, batch 200, train loss: 0.7007, valid loss: 0.9349\n",
      "VALID stats: acc: 74.43%, loss: 0.9192\n",
      "EPOCH 7\n",
      "Epoch 7, batch 100, train loss: 0.5422, valid loss: 0.9100\n",
      "Epoch 7, batch 200, train loss: 0.5703, valid loss: 0.8692\n",
      "VALID stats: acc: 76.72%, loss: 0.8611\n",
      "EPOCH 8\n",
      "Epoch 8, batch 100, train loss: 0.4142, valid loss: 0.8211\n",
      "Epoch 8, batch 200, train loss: 0.4407, valid loss: 0.8241\n",
      "VALID stats: acc: 78.05%, loss: 0.8146\n",
      "EPOCH 9\n",
      "Epoch 9, batch 100, train loss: 0.3200, valid loss: 0.8046\n",
      "Epoch 9, batch 200, train loss: 0.3541, valid loss: 0.7772\n",
      "VALID stats: acc: 78.92%, loss: 0.7742\n",
      "EPOCH 10\n",
      "Epoch 10, batch 100, train loss: 0.2612, valid loss: 0.7673\n",
      "Epoch 10, batch 200, train loss: 0.2727, valid loss: 0.7804\n",
      "VALID stats: acc: 78.92%, loss: 0.7561\n",
      "EPOCH 11\n",
      "Epoch 11, batch 100, train loss: 0.2057, valid loss: 0.7525\n",
      "Epoch 11, batch 200, train loss: 0.2150, valid loss: 0.7554\n",
      "VALID stats: acc: 79.89%, loss: 0.7603\n",
      "EPOCH 12\n",
      "Epoch 12, batch 100, train loss: 0.1576, valid loss: 0.7423\n",
      "Epoch 12, batch 200, train loss: 0.1817, valid loss: 0.7708\n",
      "VALID stats: acc: 79.81%, loss: 0.7308\n",
      "EPOCH 13\n",
      "Epoch 13, batch 100, train loss: 0.1356, valid loss: 0.7381\n",
      "Epoch 13, batch 200, train loss: 0.1339, valid loss: 0.7416\n",
      "VALID stats: acc: 80.82%, loss: 0.7436\n",
      "EPOCH 14\n",
      "Epoch 14, batch 100, train loss: 0.0967, valid loss: 0.7168\n",
      "Epoch 14, batch 200, train loss: 0.1103, valid loss: 0.7100\n",
      "VALID stats: acc: 80.71%, loss: 0.7331\n",
      "EPOCH 15\n",
      "Epoch 15, batch 100, train loss: 0.0912, valid loss: 0.7136\n",
      "Epoch 15, batch 200, train loss: 0.0922, valid loss: 0.7131\n",
      "VALID stats: acc: 81.47%, loss: 0.7113\n"
     ]
    },
    {
     "data": {
      "image/png": "[encoded data removed]",
      "text/plain": [
       "<Figure size 432x288 with 1 Axes>"
      ]
     },
     "metadata": {
      "needs_background": "light"
     },
     "output_type": "display_data"
    },
    {
     "name": "stdout",
     "output_type": "stream",
     "text": [
      "TEST stats: acc: 80.81%, loss: 0.7362\n",
      "TRAIN stats: acc: 99.96%, loss: 0.0129\n"
     ]
    }
   ],
   "source": [
    "trainer = None\n",
    "\n",
    "try:\n",
    "    trainer = CelebrityTrainer()\n",
    "    trainer.train()\n",
    "\n",
    "    confusion_matrix = trainer.confusion_matrix\n",
    "    classes = trainer.classes\n",
    "finally:\n",
    "    if trainer:\n",
    "        del trainer"
   ]
  },
  {
   "cell_type": "markdown",
   "metadata": {},
   "source": [
    "As mentioned before, the losses on the training and validation (and hence also test) sets split at some point.\n",
    "The final losses are 0.7362 for test and 0.0129 for training sets in this run."
   ]
  },
  {
   "cell_type": "markdown",
   "metadata": {},
   "source": [
    "* **What is the impact of batch size on accuracy?**"
   ]
  },
  {
   "cell_type": "code",
   "execution_count": 17,
   "metadata": {
    "scrolled": true
   },
   "outputs": [
    {
     "name": "stdout",
     "output_type": "stream",
     "text": [
      "MB_SIZE: 8\n",
      "EPOCH 1\n",
      "VALID stats: acc: 38.57%, loss: 2.1457\n",
      "EPOCH 2\n",
      "VALID stats: acc: 52.25%, loss: 1.6788\n",
      "EPOCH 3\n",
      "VALID stats: acc: 60.79%, loss: 1.3681\n",
      "EPOCH 4\n",
      "VALID stats: acc: 67.86%, loss: 1.1742\n",
      "EPOCH 5\n",
      "VALID stats: acc: 69.11%, loss: 1.0885\n",
      "EPOCH 6\n",
      "VALID stats: acc: 72.57%, loss: 0.9980\n",
      "EPOCH 7\n",
      "VALID stats: acc: 73.71%, loss: 0.9241\n",
      "EPOCH 8\n",
      "VALID stats: acc: 75.07%, loss: 0.9083\n",
      "EPOCH 9\n",
      "VALID stats: acc: 76.32%, loss: 0.8755\n",
      "EPOCH 10\n",
      "VALID stats: acc: 76.79%, loss: 0.8459\n",
      "EPOCH 11\n",
      "VALID stats: acc: 77.39%, loss: 0.8230\n",
      "EPOCH 12\n",
      "VALID stats: acc: 78.54%, loss: 0.7992\n",
      "EPOCH 13\n",
      "VALID stats: acc: 79.79%, loss: 0.7715\n",
      "EPOCH 14\n",
      "VALID stats: acc: 79.89%, loss: 0.7709\n",
      "EPOCH 15\n",
      "VALID stats: acc: 79.50%, loss: 0.7891\n",
      "Restoring snapshot from epoch 14 with valid loss: 0.7709\n",
      "TEST stats: acc: 79.44%, loss: 0.8080\n",
      "TRAIN stats: acc: 99.17%, loss: 0.0599\n",
      "MB_SIZE: 16\n",
      "EPOCH 1\n",
      "VALID stats: acc: 43.57%, loss: 1.9692\n",
      "EPOCH 2\n",
      "VALID stats: acc: 58.04%, loss: 1.4928\n",
      "EPOCH 3\n",
      "VALID stats: acc: 65.18%, loss: 1.2227\n",
      "EPOCH 4\n",
      "VALID stats: acc: 70.21%, loss: 1.0537\n",
      "EPOCH 5\n",
      "VALID stats: acc: 73.54%, loss: 0.9546\n",
      "EPOCH 6\n",
      "VALID stats: acc: 75.25%, loss: 0.8780\n",
      "EPOCH 7\n",
      "VALID stats: acc: 77.79%, loss: 0.8205\n",
      "EPOCH 8\n",
      "VALID stats: acc: 76.96%, loss: 0.8225\n",
      "EPOCH 9\n",
      "VALID stats: acc: 79.00%, loss: 0.7726\n",
      "EPOCH 10\n",
      "VALID stats: acc: 79.43%, loss: 0.7644\n",
      "EPOCH 11\n",
      "VALID stats: acc: 80.29%, loss: 0.7333\n",
      "EPOCH 12\n",
      "VALID stats: acc: 80.18%, loss: 0.7322\n",
      "EPOCH 13\n",
      "VALID stats: acc: 80.68%, loss: 0.7422\n",
      "EPOCH 14\n",
      "VALID stats: acc: 80.89%, loss: 0.7222\n",
      "EPOCH 15\n",
      "VALID stats: acc: 81.04%, loss: 0.7311\n",
      "Restoring snapshot from epoch 14 with valid loss: 0.7222\n",
      "TEST stats: acc: 80.41%, loss: 0.7663\n",
      "TRAIN stats: acc: 99.93%, loss: 0.0186\n",
      "MB_SIZE: 32\n",
      "EPOCH 1\n",
      "VALID stats: acc: 43.14%, loss: 1.9979\n",
      "EPOCH 2\n",
      "VALID stats: acc: 56.14%, loss: 1.5329\n",
      "EPOCH 3\n",
      "VALID stats: acc: 64.40%, loss: 1.2554\n",
      "EPOCH 4\n",
      "VALID stats: acc: 68.97%, loss: 1.1027\n",
      "EPOCH 5\n",
      "VALID stats: acc: 72.63%, loss: 0.9785\n",
      "EPOCH 6\n",
      "VALID stats: acc: 74.82%, loss: 0.8824\n",
      "EPOCH 7\n",
      "VALID stats: acc: 76.54%, loss: 0.8450\n",
      "EPOCH 8\n",
      "VALID stats: acc: 77.95%, loss: 0.8111\n",
      "EPOCH 9\n",
      "VALID stats: acc: 78.27%, loss: 0.8085\n",
      "EPOCH 10\n",
      "VALID stats: acc: 78.99%, loss: 0.7634\n",
      "EPOCH 11\n",
      "VALID stats: acc: 80.85%, loss: 0.7353\n",
      "EPOCH 12\n",
      "VALID stats: acc: 80.32%, loss: 0.7372\n",
      "EPOCH 13\n",
      "VALID stats: acc: 80.46%, loss: 0.7227\n",
      "EPOCH 14\n",
      "VALID stats: acc: 81.36%, loss: 0.7149\n",
      "EPOCH 15\n",
      "VALID stats: acc: 81.00%, loss: 0.7231\n",
      "Restoring snapshot from epoch 14 with valid loss: 0.7149\n",
      "TEST stats: acc: 80.19%, loss: 0.7753\n",
      "TRAIN stats: acc: 99.95%, loss: 0.0165\n",
      "MB_SIZE: 64\n",
      "EPOCH 1\n",
      "VALID stats: acc: 37.46%, loss: 2.1737\n",
      "EPOCH 2\n",
      "VALID stats: acc: 52.62%, loss: 1.6934\n",
      "EPOCH 3\n",
      "VALID stats: acc: 60.07%, loss: 1.4331\n",
      "EPOCH 4\n",
      "VALID stats: acc: 65.59%, loss: 1.2158\n",
      "EPOCH 5\n",
      "VALID stats: acc: 69.00%, loss: 1.0811\n",
      "EPOCH 6\n",
      "VALID stats: acc: 73.29%, loss: 0.9694\n",
      "EPOCH 7\n",
      "VALID stats: acc: 74.85%, loss: 0.8933\n",
      "EPOCH 8\n",
      "VALID stats: acc: 76.45%, loss: 0.8563\n",
      "EPOCH 9\n",
      "VALID stats: acc: 77.65%, loss: 0.8149\n",
      "EPOCH 10\n",
      "VALID stats: acc: 77.91%, loss: 0.7985\n",
      "EPOCH 11\n",
      "VALID stats: acc: 78.45%, loss: 0.7766\n",
      "EPOCH 12\n",
      "VALID stats: acc: 79.91%, loss: 0.7418\n",
      "EPOCH 13\n",
      "VALID stats: acc: 79.43%, loss: 0.7600\n",
      "EPOCH 14\n",
      "VALID stats: acc: 80.96%, loss: 0.7380\n",
      "EPOCH 15\n",
      "VALID stats: acc: 80.89%, loss: 0.7235\n",
      "TEST stats: acc: 80.38%, loss: 0.7465\n",
      "TRAIN stats: acc: 99.95%, loss: 0.0211\n",
      "MB_SIZE: 96\n",
      "EPOCH 1\n",
      "VALID stats: acc: 36.42%, loss: 2.2370\n",
      "EPOCH 2\n",
      "VALID stats: acc: 49.28%, loss: 1.7758\n",
      "EPOCH 3\n",
      "VALID stats: acc: 57.54%, loss: 1.4830\n",
      "EPOCH 4\n",
      "VALID stats: acc: 63.40%, loss: 1.2890\n",
      "EPOCH 5\n",
      "VALID stats: acc: 67.67%, loss: 1.1353\n",
      "EPOCH 6\n",
      "VALID stats: acc: 70.87%, loss: 1.0319\n",
      "EPOCH 7\n",
      "VALID stats: acc: 72.88%, loss: 0.9582\n",
      "EPOCH 8\n",
      "VALID stats: acc: 74.43%, loss: 0.8990\n",
      "EPOCH 9\n",
      "VALID stats: acc: 76.33%, loss: 0.8477\n",
      "EPOCH 10\n",
      "VALID stats: acc: 78.02%, loss: 0.8162\n",
      "EPOCH 11\n",
      "VALID stats: acc: 78.34%, loss: 0.7966\n",
      "EPOCH 12\n",
      "VALID stats: acc: 78.70%, loss: 0.7779\n",
      "EPOCH 13\n",
      "VALID stats: acc: 78.48%, loss: 0.7605\n",
      "EPOCH 14\n",
      "VALID stats: acc: 79.99%, loss: 0.7354\n",
      "EPOCH 15\n",
      "VALID stats: acc: 79.63%, loss: 0.7469\n",
      "Restoring snapshot from epoch 14 with valid loss: 0.7354\n",
      "TEST stats: acc: 80.09%, loss: 0.7446\n",
      "TRAIN stats: acc: 99.63%, loss: 0.0522\n",
      "\n",
      "Acc for mb_size=8 is 79.44%.\n",
      "\n",
      "Acc for mb_size=16 is 80.41%.\n",
      "\n",
      "Acc for mb_size=32 is 80.19%.\n",
      "\n",
      "Acc for mb_size=64 is 80.38%.\n",
      "\n",
      "Acc for mb_size=96 is 80.09%.\n"
     ]
    },
    {
     "data": {
      "text/plain": [
       "<matplotlib.collections.PathCollection at 0x7f47e57204e0>"
      ]
     },
     "execution_count": 17,
     "metadata": {},
     "output_type": "execute_result"
    },
    {
     "data": {
      "image/png": "[encoded data removed]",
      "text/plain": [
       "<Figure size 432x288 with 1 Axes>"
      ]
     },
     "metadata": {
      "needs_background": "light"
     },
     "output_type": "display_data"
    }
   ],
   "source": [
    "mb_sizes = [8, 16, 32, 64, 96]\n",
    "accs = []\n",
    "\n",
    "for mb_size in mb_sizes:\n",
    "    print(f'MB_SIZE: {mb_size}')\n",
    "    acc, _ = CelebrityTrainer(mb_size=mb_size, stat_period=10000).train(plot_loss=False)\n",
    "    accs.append(acc)\n",
    "    \n",
    "for mb_size, acc in zip(mb_sizes, accs):\n",
    "    print(f'\\nAcc for mb_size={mb_size} is {(acc * 100):.2f}%.')\n",
    "    \n",
    "plt.scatter(mb_sizes, accs)"
   ]
  },
  {
   "cell_type": "markdown",
   "metadata": {},
   "source": [
    "There seems to be no clear correlation between minibatch sizes and accuracy. There might be some if we average more runs or check much higher values, but for 128 the GPU runs out of memory."
   ]
  },
  {
   "cell_type": "markdown",
   "metadata": {},
   "source": [
    "* **What is the impact of batch normalization on accuracy and learning speed?**"
   ]
  },
  {
   "cell_type": "code",
   "execution_count": 3,
   "metadata": {
    "scrolled": true
   },
   "outputs": [
    {
     "name": "stdout",
     "output_type": "stream",
     "text": [
      "EPOCH 1\n",
      "Epoch 1, batch 100, train loss: 3.3195, valid loss: 3.2549\n",
      "Epoch 1, batch 200, train loss: 3.1672, valid loss: 3.0653\n",
      "VALID stats: acc: 17.85%, loss: 2.8626\n",
      "EPOCH 2\n",
      "Epoch 2, batch 100, train loss: 2.7829, valid loss: 2.6534\n",
      "Epoch 2, batch 200, train loss: 2.5527, valid loss: 2.4354\n",
      "VALID stats: acc: 33.33%, loss: 2.2801\n",
      "EPOCH 3\n",
      "Epoch 3, batch 100, train loss: 2.1821, valid loss: 2.1610\n",
      "Epoch 3, batch 200, train loss: 2.0869, valid loss: 1.9889\n",
      "VALID stats: acc: 43.07%, loss: 1.9556\n",
      "EPOCH 4\n",
      "Epoch 4, batch 100, train loss: 1.8549, valid loss: 1.8939\n",
      "Epoch 4, batch 200, train loss: 1.7597, valid loss: 1.8110\n",
      "VALID stats: acc: 48.20%, loss: 1.7709\n",
      "EPOCH 5\n",
      "Epoch 5, batch 100, train loss: 1.5612, valid loss: 1.6915\n",
      "Epoch 5, batch 200, train loss: 1.5416, valid loss: 1.6693\n",
      "VALID stats: acc: 53.38%, loss: 1.6153\n",
      "EPOCH 6\n",
      "Epoch 6, batch 100, train loss: 1.3353, valid loss: 1.5647\n",
      "Epoch 6, batch 200, train loss: 1.4172, valid loss: 1.5152\n",
      "VALID stats: acc: 55.24%, loss: 1.5569\n",
      "EPOCH 7\n",
      "Epoch 7, batch 100, train loss: 1.1957, valid loss: 1.5092\n",
      "Epoch 7, batch 200, train loss: 1.2094, valid loss: 1.5125\n",
      "VALID stats: acc: 60.09%, loss: 1.3988\n",
      "EPOCH 8\n",
      "Epoch 8, batch 100, train loss: 1.0447, valid loss: 1.4376\n",
      "Epoch 8, batch 200, train loss: 1.1100, valid loss: 1.4436\n",
      "VALID stats: acc: 59.59%, loss: 1.4488\n",
      "EPOCH 9\n",
      "Epoch 9, batch 100, train loss: 0.9408, valid loss: 1.4295\n",
      "Epoch 9, batch 200, train loss: 0.9187, valid loss: 1.3620\n",
      "VALID stats: acc: 60.81%, loss: 1.3561\n",
      "EPOCH 10\n",
      "Epoch 10, batch 100, train loss: 0.7684, valid loss: 1.4278\n",
      "Epoch 10, batch 200, train loss: 0.8425, valid loss: 1.3857\n",
      "VALID stats: acc: 61.71%, loss: 1.3749\n",
      "EPOCH 11\n",
      "Epoch 11, batch 100, train loss: 0.6805, valid loss: 1.3918\n",
      "Epoch 11, batch 200, train loss: 0.6942, valid loss: 1.4241\n",
      "VALID stats: acc: 63.40%, loss: 1.3480\n",
      "EPOCH 12\n",
      "Epoch 12, batch 100, train loss: 0.5872, valid loss: 1.5034\n",
      "Epoch 12, batch 200, train loss: 0.5727, valid loss: 1.4298\n",
      "VALID stats: acc: 62.75%, loss: 1.3697\n",
      "EPOCH 13\n",
      "Epoch 13, batch 100, train loss: 0.4721, valid loss: 1.4440\n",
      "Epoch 13, batch 200, train loss: 0.5117, valid loss: 1.4442\n",
      "VALID stats: acc: 62.14%, loss: 1.4416\n",
      "EPOCH 14\n",
      "Epoch 14, batch 100, train loss: 0.3968, valid loss: 1.5254\n",
      "Epoch 14, batch 200, train loss: 0.4487, valid loss: 1.5255\n",
      "VALID stats: acc: 64.26%, loss: 1.4370\n",
      "EPOCH 15\n",
      "Epoch 15, batch 100, train loss: 0.3302, valid loss: 1.5080\n",
      "Epoch 15, batch 200, train loss: 0.3579, valid loss: 1.5006\n",
      "VALID stats: acc: 62.82%, loss: 1.6186\n",
      "No improvement in last 4 epochs, early stopping.\n"
     ]
    },
    {
     "data": {
      "image/png": "[encoded data removed]",
      "text/plain": [
       "<Figure size 432x288 with 1 Axes>"
      ]
     },
     "metadata": {
      "needs_background": "light"
     },
     "output_type": "display_data"
    },
    {
     "name": "stdout",
     "output_type": "stream",
     "text": [
      "Restoring snapshot from epoch 11 with valid loss: 1.3480\n",
      "TEST stats: acc: 63.53%, loss: 1.3944\n",
      "TRAIN stats: acc: 90.79%, loss: 0.3657\n"
     ]
    },
    {
     "data": {
      "text/plain": [
       "(0.6352813852813853, 1.3944085932326042)"
      ]
     },
     "execution_count": 3,
     "metadata": {},
     "output_type": "execute_result"
    }
   ],
   "source": [
    "CelebrityTrainer(batch_norm=False).train()"
   ]
  },
  {
   "cell_type": "code",
   "execution_count": 4,
   "metadata": {
    "scrolled": true
   },
   "outputs": [
    {
     "name": "stdout",
     "output_type": "stream",
     "text": [
      "EPOCH 1\n",
      "Epoch 1, batch 100, train loss: 3.3337, valid loss: 3.3077\n",
      "Epoch 1, batch 200, train loss: 3.2458, valid loss: 3.1247\n",
      "VALID stats: acc: 12.64%, loss: 2.9977\n",
      "EPOCH 2\n",
      "Epoch 2, batch 100, train loss: 2.9669, valid loss: 2.8769\n",
      "Epoch 2, batch 200, train loss: 2.8438, valid loss: 2.6776\n",
      "VALID stats: acc: 21.73%, loss: 2.6468\n",
      "EPOCH 3\n",
      "Epoch 3, batch 100, train loss: 2.6146, valid loss: 2.5386\n",
      "Epoch 3, batch 200, train loss: 2.5498, valid loss: 2.4382\n",
      "VALID stats: acc: 27.05%, loss: 2.3645\n",
      "EPOCH 4\n",
      "Epoch 4, batch 100, train loss: 2.3740, valid loss: 2.2921\n",
      "Epoch 4, batch 200, train loss: 2.3242, valid loss: 2.2067\n",
      "VALID stats: acc: 35.56%, loss: 2.1928\n",
      "EPOCH 5\n",
      "Epoch 5, batch 100, train loss: 2.1951, valid loss: 2.1276\n",
      "Epoch 5, batch 200, train loss: 2.1769, valid loss: 2.0506\n",
      "VALID stats: acc: 39.04%, loss: 2.0599\n",
      "EPOCH 6\n",
      "Epoch 6, batch 100, train loss: 2.0585, valid loss: 2.0024\n",
      "Epoch 6, batch 200, train loss: 2.0558, valid loss: 1.9772\n",
      "VALID stats: acc: 42.06%, loss: 1.9317\n",
      "EPOCH 7\n",
      "Epoch 7, batch 100, train loss: 1.9320, valid loss: 1.8929\n",
      "Epoch 7, batch 200, train loss: 1.9584, valid loss: 1.8645\n",
      "VALID stats: acc: 43.32%, loss: 1.9169\n",
      "EPOCH 8\n",
      "Epoch 8, batch 100, train loss: 1.8506, valid loss: 1.8413\n",
      "Epoch 8, batch 200, train loss: 1.8850, valid loss: 1.8208\n",
      "VALID stats: acc: 47.77%, loss: 1.8013\n",
      "EPOCH 9\n",
      "Epoch 9, batch 100, train loss: 1.7672, valid loss: 1.7417\n",
      "Epoch 9, batch 200, train loss: 1.7578, valid loss: 1.7307\n",
      "VALID stats: acc: 50.75%, loss: 1.7296\n",
      "EPOCH 10\n",
      "Epoch 10, batch 100, train loss: 1.7277, valid loss: 1.6801\n",
      "Epoch 10, batch 200, train loss: 1.6566, valid loss: 1.6787\n",
      "VALID stats: acc: 51.83%, loss: 1.6283\n",
      "EPOCH 11\n",
      "Epoch 11, batch 100, train loss: 1.6446, valid loss: 1.6783\n",
      "Epoch 11, batch 200, train loss: 1.6666, valid loss: 1.6813\n",
      "VALID stats: acc: 52.33%, loss: 1.6165\n",
      "EPOCH 12\n",
      "Epoch 12, batch 100, train loss: 1.5431, valid loss: 1.5834\n",
      "Epoch 12, batch 200, train loss: 1.5841, valid loss: 1.6307\n",
      "VALID stats: acc: 53.81%, loss: 1.5784\n",
      "EPOCH 13\n",
      "Epoch 13, batch 100, train loss: 1.4953, valid loss: 1.5622\n",
      "Epoch 13, batch 200, train loss: 1.5257, valid loss: 1.5404\n",
      "VALID stats: acc: 55.10%, loss: 1.5268\n",
      "EPOCH 14\n",
      "Epoch 14, batch 100, train loss: 1.4605, valid loss: 1.5226\n",
      "Epoch 14, batch 200, train loss: 1.4631, valid loss: 1.5244\n",
      "VALID stats: acc: 55.46%, loss: 1.5128\n",
      "EPOCH 15\n",
      "Epoch 15, batch 100, train loss: 1.3844, valid loss: 1.5085\n",
      "Epoch 15, batch 200, train loss: 1.4064, valid loss: 1.4733\n",
      "VALID stats: acc: 56.72%, loss: 1.4906\n"
     ]
    },
    {
     "data": {
      "image/png": "[encoded data removed]",
      "text/plain": [
       "<Figure size 432x288 with 1 Axes>"
      ]
     },
     "metadata": {
      "needs_background": "light"
     },
     "output_type": "display_data"
    },
    {
     "name": "stdout",
     "output_type": "stream",
     "text": [
      "TEST stats: acc: 56.85%, loss: 1.4924\n",
      "TRAIN stats: acc: 71.80%, loss: 1.0075\n"
     ]
    },
    {
     "data": {
      "text/plain": [
       "(0.5685425685425686, 1.4923709685775055)"
      ]
     },
     "execution_count": 4,
     "metadata": {},
     "output_type": "execute_result"
    }
   ],
   "source": [
    "CelebrityTrainer(batch_norm=False, optimizer_lambda=partial(optim.Adam, lr=10 * DEFAULT_LR, weight_decay=DEFAULT_WEIGHT_DECAY)).train()"
   ]
  },
  {
   "cell_type": "markdown",
   "metadata": {},
   "source": [
    "As you can see, the model's accuracy suffers a lot when batch norm is removed. The best achieved test accuracy is 63.53% and the model is overfitting for the last few epochs.\n",
    "\n",
    "The learning speed also decreased. The best model's validation loss is below 0.8 at 1/3 of the run, while the batchnorm-less one has over 1.4 at the same time and 1.3480 at it's best.\n",
    "\n",
    "Decreasing and increasing the learning rate doesn't help."
   ]
  },
  {
   "cell_type": "markdown",
   "metadata": {},
   "source": [
    "* **What optimizer gives the best results?**"
   ]
  },
  {
   "cell_type": "code",
   "execution_count": 5,
   "metadata": {
    "scrolled": true
   },
   "outputs": [
    {
     "name": "stdout",
     "output_type": "stream",
     "text": [
      "EPOCH 1\n",
      "Epoch 1, batch 100, train loss: 2.9505, valid loss: 2.5443\n",
      "Epoch 1, batch 200, train loss: 2.5044, valid loss: 2.1880\n",
      "VALID stats: acc: 41.42%, loss: 2.0163\n",
      "EPOCH 2\n",
      "Epoch 2, batch 100, train loss: 1.9130, valid loss: 1.8056\n",
      "Epoch 2, batch 200, train loss: 1.7691, valid loss: 1.6458\n",
      "VALID stats: acc: 56.75%, loss: 1.5341\n",
      "EPOCH 3\n",
      "Epoch 3, batch 100, train loss: 1.4097, valid loss: 1.4189\n",
      "Epoch 3, batch 200, train loss: 1.3729, valid loss: 1.3017\n",
      "VALID stats: acc: 64.15%, loss: 1.2663\n",
      "EPOCH 4\n",
      "Epoch 4, batch 100, train loss: 1.0858, valid loss: 1.1771\n",
      "Epoch 4, batch 200, train loss: 1.0812, valid loss: 1.1107\n",
      "VALID stats: acc: 69.47%, loss: 1.1005\n",
      "EPOCH 5\n",
      "Epoch 5, batch 100, train loss: 0.8484, valid loss: 1.0427\n",
      "Epoch 5, batch 200, train loss: 0.8580, valid loss: 0.9925\n",
      "VALID stats: acc: 72.31%, loss: 0.9609\n",
      "EPOCH 6\n",
      "Epoch 6, batch 100, train loss: 0.6877, valid loss: 0.9523\n",
      "Epoch 6, batch 200, train loss: 0.6992, valid loss: 0.9104\n",
      "VALID stats: acc: 75.57%, loss: 0.8777\n",
      "EPOCH 7\n",
      "Epoch 7, batch 100, train loss: 0.5223, valid loss: 0.8667\n",
      "Epoch 7, batch 200, train loss: 0.5396, valid loss: 0.8548\n",
      "VALID stats: acc: 77.84%, loss: 0.8516\n",
      "EPOCH 8\n",
      "Epoch 8, batch 100, train loss: 0.4271, valid loss: 0.8426\n",
      "Epoch 8, batch 200, train loss: 0.4469, valid loss: 0.8138\n",
      "VALID stats: acc: 77.59%, loss: 0.8059\n",
      "EPOCH 9\n",
      "Epoch 9, batch 100, train loss: 0.3195, valid loss: 0.8049\n",
      "Epoch 9, batch 200, train loss: 0.3574, valid loss: 0.8003\n",
      "VALID stats: acc: 78.74%, loss: 0.7764\n",
      "EPOCH 10\n",
      "Epoch 10, batch 100, train loss: 0.2414, valid loss: 0.7646\n",
      "Epoch 10, batch 200, train loss: 0.2825, valid loss: 0.7806\n",
      "VALID stats: acc: 79.27%, loss: 0.7821\n",
      "EPOCH 11\n",
      "Epoch 11, batch 100, train loss: 0.2074, valid loss: 0.7625\n",
      "Epoch 11, batch 200, train loss: 0.2154, valid loss: 0.7477\n",
      "VALID stats: acc: 79.99%, loss: 0.7560\n",
      "EPOCH 12\n",
      "Epoch 12, batch 100, train loss: 0.1634, valid loss: 0.7495\n",
      "Epoch 12, batch 200, train loss: 0.1725, valid loss: 0.7385\n",
      "VALID stats: acc: 80.53%, loss: 0.7601\n",
      "EPOCH 13\n",
      "Epoch 13, batch 100, train loss: 0.1253, valid loss: 0.7346\n",
      "Epoch 13, batch 200, train loss: 0.1385, valid loss: 0.7296\n",
      "VALID stats: acc: 80.68%, loss: 0.7453\n",
      "EPOCH 14\n",
      "Epoch 14, batch 100, train loss: 0.1078, valid loss: 0.7314\n",
      "Epoch 14, batch 200, train loss: 0.1085, valid loss: 0.7002\n",
      "VALID stats: acc: 80.14%, loss: 0.7430\n",
      "EPOCH 15\n",
      "Epoch 15, batch 100, train loss: 0.0892, valid loss: 0.7226\n",
      "Epoch 15, batch 200, train loss: 0.0921, valid loss: 0.7296\n",
      "VALID stats: acc: 81.68%, loss: 0.7133\n"
     ]
    },
    {
     "data": {
      "image/png": "[encoded data removed]",
      "text/plain": [
       "<Figure size 432x288 with 1 Axes>"
      ]
     },
     "metadata": {
      "needs_background": "light"
     },
     "output_type": "display_data"
    },
    {
     "name": "stdout",
     "output_type": "stream",
     "text": [
      "TEST stats: acc: 80.81%, loss: 0.7540\n",
      "TRAIN stats: acc: 99.92%, loss: 0.0154\n"
     ]
    },
    {
     "data": {
      "text/plain": [
       "(0.8080808080808081, 0.7540383606121458)"
      ]
     },
     "execution_count": 5,
     "metadata": {},
     "output_type": "execute_result"
    }
   ],
   "source": [
    "adam_no_amsgrad = partial(optim.Adam, lr=DEFAULT_LR, weight_decay=DEFAULT_WEIGHT_DECAY, amsgrad=False)\n",
    "CelebrityTrainer(optimizer_lambda=adam_no_amsgrad).train()"
   ]
  },
  {
   "cell_type": "code",
   "execution_count": 6,
   "metadata": {
    "scrolled": true
   },
   "outputs": [
    {
     "name": "stdout",
     "output_type": "stream",
     "text": [
      "EPOCH 1\n",
      "Epoch 1, batch 100, train loss: 2.9586, valid loss: 2.4835\n",
      "Epoch 1, batch 200, train loss: 2.3963, valid loss: 2.1097\n",
      "VALID stats: acc: 45.01%, loss: 1.9149\n",
      "EPOCH 2\n",
      "Epoch 2, batch 100, train loss: 1.8468, valid loss: 1.7132\n",
      "Epoch 2, batch 200, train loss: 1.6890, valid loss: 1.5508\n",
      "VALID stats: acc: 58.73%, loss: 1.4686\n",
      "EPOCH 3\n",
      "Epoch 3, batch 100, train loss: 1.3478, valid loss: 1.3709\n",
      "Epoch 3, batch 200, train loss: 1.2779, valid loss: 1.2738\n",
      "VALID stats: acc: 66.13%, loss: 1.2177\n",
      "EPOCH 4\n",
      "Epoch 4, batch 100, train loss: 1.0075, valid loss: 1.1426\n",
      "Epoch 4, batch 200, train loss: 1.0490, valid loss: 1.0995\n",
      "VALID stats: acc: 68.53%, loss: 1.0965\n",
      "EPOCH 5\n",
      "Epoch 5, batch 100, train loss: 0.8007, valid loss: 1.0273\n",
      "Epoch 5, batch 200, train loss: 0.8095, valid loss: 0.9986\n",
      "VALID stats: acc: 71.98%, loss: 0.9871\n",
      "EPOCH 6\n",
      "Epoch 6, batch 100, train loss: 0.6928, valid loss: 0.9468\n",
      "Epoch 6, batch 200, train loss: 0.6665, valid loss: 0.9569\n",
      "VALID stats: acc: 74.82%, loss: 0.9181\n",
      "EPOCH 7\n",
      "Epoch 7, batch 100, train loss: 0.5310, valid loss: 0.9117\n",
      "Epoch 7, batch 200, train loss: 0.5670, valid loss: 0.8894\n",
      "VALID stats: acc: 75.11%, loss: 0.8850\n",
      "EPOCH 8\n",
      "Epoch 8, batch 100, train loss: 0.4437, valid loss: 0.8663\n",
      "Epoch 8, batch 200, train loss: 0.4361, valid loss: 0.8358\n",
      "VALID stats: acc: 77.59%, loss: 0.8363\n",
      "EPOCH 9\n",
      "Epoch 9, batch 100, train loss: 0.3652, valid loss: 0.8157\n",
      "Epoch 9, batch 200, train loss: 0.3616, valid loss: 0.8014\n",
      "VALID stats: acc: 78.95%, loss: 0.7983\n",
      "EPOCH 10\n",
      "Epoch 10, batch 100, train loss: 0.2666, valid loss: 0.7963\n",
      "Epoch 10, batch 200, train loss: 0.3017, valid loss: 0.8018\n",
      "VALID stats: acc: 78.88%, loss: 0.8019\n",
      "EPOCH 11\n",
      "Epoch 11, batch 100, train loss: 0.2394, valid loss: 0.7978\n",
      "Epoch 11, batch 200, train loss: 0.2469, valid loss: 0.7843\n",
      "VALID stats: acc: 79.71%, loss: 0.7777\n",
      "EPOCH 12\n",
      "Epoch 12, batch 100, train loss: 0.1941, valid loss: 0.7752\n",
      "Epoch 12, batch 200, train loss: 0.2049, valid loss: 0.8000\n",
      "VALID stats: acc: 80.14%, loss: 0.7840\n",
      "EPOCH 13\n",
      "Epoch 13, batch 100, train loss: 0.1588, valid loss: 0.7858\n",
      "Epoch 13, batch 200, train loss: 0.1719, valid loss: 0.8121\n",
      "VALID stats: acc: 80.17%, loss: 0.7703\n",
      "EPOCH 14\n",
      "Epoch 14, batch 100, train loss: 0.1317, valid loss: 0.7838\n",
      "Epoch 14, batch 200, train loss: 0.1489, valid loss: 0.7870\n",
      "VALID stats: acc: 80.24%, loss: 0.7946\n",
      "EPOCH 15\n",
      "Epoch 15, batch 100, train loss: 0.1099, valid loss: 0.7607\n",
      "Epoch 15, batch 200, train loss: 0.1208, valid loss: 0.7865\n",
      "VALID stats: acc: 80.82%, loss: 0.7897\n"
     ]
    },
    {
     "data": {
      "image/png": "[encoded data removed]",
      "text/plain": [
       "<Figure size 432x288 with 1 Axes>"
      ]
     },
     "metadata": {
      "needs_background": "light"
     },
     "output_type": "display_data"
    },
    {
     "name": "stdout",
     "output_type": "stream",
     "text": [
      "Restoring snapshot from epoch 13 with valid loss: 0.7703\n",
      "TEST stats: acc: 80.23%, loss: 0.7786\n",
      "TRAIN stats: acc: 99.76%, loss: 0.0267\n"
     ]
    },
    {
     "data": {
      "text/plain": [
       "(0.8023088023088023, 0.7786222179045622)"
      ]
     },
     "execution_count": 6,
     "metadata": {},
     "output_type": "execute_result"
    }
   ],
   "source": [
    "sgd = partial(optim.SGD, lr=100 * DEFAULT_LR, weight_decay=DEFAULT_WEIGHT_DECAY)\n",
    "CelebrityTrainer(optimizer_lambda=sgd).train()"
   ]
  },
  {
   "cell_type": "code",
   "execution_count": 7,
   "metadata": {
    "scrolled": true
   },
   "outputs": [
    {
     "name": "stdout",
     "output_type": "stream",
     "text": [
      "EPOCH 1\n",
      "Epoch 1, batch 100, train loss: 3.2580, valid loss: 3.1500\n",
      "Epoch 1, batch 200, train loss: 2.7749, valid loss: 2.4529\n",
      "VALID stats: acc: 39.15%, loss: 2.3631\n",
      "EPOCH 2\n",
      "Epoch 2, batch 100, train loss: 2.0378, valid loss: 2.0427\n",
      "Epoch 2, batch 200, train loss: 1.9074, valid loss: 1.7706\n",
      "VALID stats: acc: 54.67%, loss: 1.7194\n",
      "EPOCH 3\n",
      "Epoch 3, batch 100, train loss: 1.3025, valid loss: 1.5458\n",
      "Epoch 3, batch 200, train loss: 1.3947, valid loss: 1.4383\n",
      "VALID stats: acc: 61.49%, loss: 1.4276\n",
      "EPOCH 4\n",
      "Epoch 4, batch 100, train loss: 0.9937, valid loss: 1.3105\n",
      "Epoch 4, batch 200, train loss: 0.9966, valid loss: 1.3307\n",
      "VALID stats: acc: 64.87%, loss: 1.2911\n",
      "EPOCH 5\n",
      "Epoch 5, batch 100, train loss: 0.6884, valid loss: 1.1650\n",
      "Epoch 5, batch 200, train loss: 0.7898, valid loss: 1.1643\n",
      "VALID stats: acc: 69.58%, loss: 1.1575\n",
      "EPOCH 6\n",
      "Epoch 6, batch 100, train loss: 0.4901, valid loss: 1.0735\n",
      "Epoch 6, batch 200, train loss: 0.5328, valid loss: 1.0529\n",
      "VALID stats: acc: 72.45%, loss: 1.0779\n",
      "EPOCH 7\n",
      "Epoch 7, batch 100, train loss: 0.3651, valid loss: 1.0780\n",
      "Epoch 7, batch 200, train loss: 0.3631, valid loss: 1.0134\n",
      "VALID stats: acc: 73.85%, loss: 1.0140\n",
      "EPOCH 8\n",
      "Epoch 8, batch 100, train loss: 0.2270, valid loss: 1.0087\n",
      "Epoch 8, batch 200, train loss: 0.2770, valid loss: 1.0237\n",
      "VALID stats: acc: 74.07%, loss: 1.0484\n",
      "EPOCH 9\n",
      "Epoch 9, batch 100, train loss: 0.1645, valid loss: 0.9687\n",
      "Epoch 9, batch 200, train loss: 0.1904, valid loss: 0.9789\n",
      "VALID stats: acc: 76.08%, loss: 1.0230\n",
      "EPOCH 10\n",
      "Epoch 10, batch 100, train loss: 0.1351, valid loss: 0.9374\n",
      "Epoch 10, batch 200, train loss: 0.1396, valid loss: 0.9363\n",
      "VALID stats: acc: 77.51%, loss: 0.9528\n",
      "EPOCH 11\n",
      "Epoch 11, batch 100, train loss: 0.1035, valid loss: 0.9353\n",
      "Epoch 11, batch 200, train loss: 0.1000, valid loss: 0.9435\n",
      "VALID stats: acc: 78.41%, loss: 0.9470\n",
      "EPOCH 12\n",
      "Epoch 12, batch 100, train loss: 0.0852, valid loss: 0.9157\n",
      "Epoch 12, batch 200, train loss: 0.0989, valid loss: 0.9485\n",
      "VALID stats: acc: 78.23%, loss: 0.9057\n",
      "EPOCH 13\n",
      "Epoch 13, batch 100, train loss: 0.0601, valid loss: 0.9121\n",
      "Epoch 13, batch 200, train loss: 0.0684, valid loss: 0.9019\n",
      "VALID stats: acc: 78.77%, loss: 0.8969\n",
      "EPOCH 14\n",
      "Epoch 14, batch 100, train loss: 0.0507, valid loss: 0.8891\n",
      "Epoch 14, batch 200, train loss: 0.0512, valid loss: 0.8934\n",
      "VALID stats: acc: 78.48%, loss: 0.8775\n",
      "EPOCH 15\n",
      "Epoch 15, batch 100, train loss: 0.0483, valid loss: 0.8407\n",
      "Epoch 15, batch 200, train loss: 0.0449, valid loss: 0.8790\n",
      "VALID stats: acc: 78.63%, loss: 0.8865\n"
     ]
    },
    {
     "data": {
      "image/png": "[encoded data removed]",
      "text/plain": [
       "<Figure size 432x288 with 1 Axes>"
      ]
     },
     "metadata": {
      "needs_background": "light"
     },
     "output_type": "display_data"
    },
    {
     "name": "stdout",
     "output_type": "stream",
     "text": [
      "Restoring snapshot from epoch 14 with valid loss: 0.8775\n",
      "TEST stats: acc: 78.75%, loss: 0.8949\n",
      "TRAIN stats: acc: 99.93%, loss: 0.0123\n"
     ]
    },
    {
     "data": {
      "text/plain": [
       "(0.7875180375180375, 0.8948600595367366)"
      ]
     },
     "execution_count": 7,
     "metadata": {},
     "output_type": "execute_result"
    }
   ],
   "source": [
    "sgd_momentum = partial(optim.SGD, momentum=0.9, lr=100 * DEFAULT_LR, weight_decay=DEFAULT_WEIGHT_DECAY)\n",
    "CelebrityTrainer(optimizer_lambda=sgd_momentum).train()"
   ]
  },
  {
   "cell_type": "code",
   "execution_count": 10,
   "metadata": {
    "scrolled": true
   },
   "outputs": [
    {
     "name": "stdout",
     "output_type": "stream",
     "text": [
      "EPOCH 1\n",
      "Epoch 1, batch 100, train loss: 3.3177, valid loss: 2.5296\n",
      "Epoch 1, batch 200, train loss: 2.3692, valid loss: 2.1278\n",
      "VALID stats: acc: 45.22%, loss: 1.8587\n",
      "EPOCH 2\n",
      "Epoch 2, batch 100, train loss: 1.6662, valid loss: 1.6257\n",
      "Epoch 2, batch 200, train loss: 1.5445, valid loss: 1.4731\n",
      "VALID stats: acc: 59.73%, loss: 1.3828\n",
      "EPOCH 3\n",
      "Epoch 3, batch 100, train loss: 1.0752, valid loss: 1.2220\n",
      "Epoch 3, batch 200, train loss: 1.0456, valid loss: 1.1325\n",
      "VALID stats: acc: 68.86%, loss: 1.0802\n",
      "EPOCH 4\n",
      "Epoch 4, batch 100, train loss: 0.7459, valid loss: 1.0378\n",
      "Epoch 4, batch 200, train loss: 0.7480, valid loss: 0.9913\n",
      "VALID stats: acc: 72.84%, loss: 0.9616\n",
      "EPOCH 5\n",
      "Epoch 5, batch 100, train loss: 0.5336, valid loss: 0.9407\n",
      "Epoch 5, batch 200, train loss: 0.5365, valid loss: 0.8708\n",
      "VALID stats: acc: 75.47%, loss: 0.8682\n",
      "EPOCH 6\n",
      "Epoch 6, batch 100, train loss: 0.3819, valid loss: 0.8387\n",
      "Epoch 6, batch 200, train loss: 0.4011, valid loss: 0.8331\n",
      "VALID stats: acc: 77.01%, loss: 0.8629\n",
      "EPOCH 7\n",
      "Epoch 7, batch 100, train loss: 0.2491, valid loss: 0.8098\n",
      "Epoch 7, batch 200, train loss: 0.3056, valid loss: 0.8279\n",
      "VALID stats: acc: 78.66%, loss: 0.7943\n",
      "EPOCH 8\n",
      "Epoch 8, batch 100, train loss: 0.2025, valid loss: 0.8089\n",
      "Epoch 8, batch 200, train loss: 0.2269, valid loss: 0.7895\n",
      "VALID stats: acc: 79.13%, loss: 0.7930\n",
      "EPOCH 9\n",
      "Epoch 9, batch 100, train loss: 0.1484, valid loss: 0.7558\n",
      "Epoch 9, batch 200, train loss: 0.1552, valid loss: 0.7918\n",
      "VALID stats: acc: 80.21%, loss: 0.7675\n",
      "EPOCH 10\n",
      "Epoch 10, batch 100, train loss: 0.1088, valid loss: 0.7735\n",
      "Epoch 10, batch 200, train loss: 0.1256, valid loss: 0.7581\n",
      "VALID stats: acc: 80.75%, loss: 0.7549\n",
      "EPOCH 11\n",
      "Epoch 11, batch 100, train loss: 0.0890, valid loss: 0.7407\n",
      "Epoch 11, batch 200, train loss: 0.0917, valid loss: 0.7607\n",
      "VALID stats: acc: 80.89%, loss: 0.7386\n",
      "EPOCH 12\n",
      "Epoch 12, batch 100, train loss: 0.0754, valid loss: 0.7342\n",
      "Epoch 12, batch 200, train loss: 0.0761, valid loss: 0.7475\n",
      "VALID stats: acc: 81.86%, loss: 0.7141\n",
      "EPOCH 13\n",
      "Epoch 13, batch 100, train loss: 0.0562, valid loss: 0.7384\n",
      "Epoch 13, batch 200, train loss: 0.0640, valid loss: 0.7444\n",
      "VALID stats: acc: 80.50%, loss: 0.7713\n",
      "EPOCH 14\n",
      "Epoch 14, batch 100, train loss: 0.0548, valid loss: 0.7363\n",
      "Epoch 14, batch 200, train loss: 0.0619, valid loss: 0.7350\n",
      "VALID stats: acc: 80.50%, loss: 0.7523\n",
      "EPOCH 15\n",
      "Epoch 15, batch 100, train loss: 0.0485, valid loss: 0.7333\n",
      "Epoch 15, batch 200, train loss: 0.0529, valid loss: 0.7406\n",
      "VALID stats: acc: 81.39%, loss: 0.7321\n"
     ]
    },
    {
     "data": {
      "image/png": "[encoded data removed]",
      "text/plain": [
       "<Figure size 432x288 with 1 Axes>"
      ]
     },
     "metadata": {
      "needs_background": "light"
     },
     "output_type": "display_data"
    },
    {
     "name": "stdout",
     "output_type": "stream",
     "text": [
      "Restoring snapshot from epoch 12 with valid loss: 0.7141\n",
      "TEST stats: acc: 79.37%, loss: 0.7701\n",
      "TRAIN stats: acc: 99.93%, loss: 0.0180\n"
     ]
    },
    {
     "data": {
      "text/plain": [
       "(0.7936507936507936, 0.77005600723727)"
      ]
     },
     "execution_count": 10,
     "metadata": {},
     "output_type": "execute_result"
    }
   ],
   "source": [
    "adagrad = partial(optim.Adagrad, lr=100 * DEFAULT_LR, weight_decay=DEFAULT_WEIGHT_DECAY)\n",
    "CelebrityTrainer(optimizer_lambda=adagrad).train()"
   ]
  },
  {
   "cell_type": "code",
   "execution_count": 11,
   "metadata": {
    "scrolled": true
   },
   "outputs": [
    {
     "name": "stdout",
     "output_type": "stream",
     "text": [
      "EPOCH 1\n",
      "Epoch 1, batch 100, train loss: 2.7760, valid loss: 2.3172\n",
      "Epoch 1, batch 200, train loss: 2.2160, valid loss: 1.9514\n",
      "VALID stats: acc: 49.39%, loss: 1.7757\n",
      "EPOCH 2\n",
      "Epoch 2, batch 100, train loss: 1.6773, valid loss: 1.6227\n",
      "Epoch 2, batch 200, train loss: 1.6072, valid loss: 1.4614\n",
      "VALID stats: acc: 60.70%, loss: 1.3841\n",
      "EPOCH 3\n",
      "Epoch 3, batch 100, train loss: 1.2753, valid loss: 1.2581\n",
      "Epoch 3, batch 200, train loss: 1.1499, valid loss: 1.1787\n",
      "VALID stats: acc: 67.46%, loss: 1.1454\n",
      "EPOCH 4\n",
      "Epoch 4, batch 100, train loss: 0.9110, valid loss: 1.0846\n",
      "Epoch 4, batch 200, train loss: 0.9183, valid loss: 1.0590\n",
      "VALID stats: acc: 71.59%, loss: 1.0069\n",
      "EPOCH 5\n",
      "Epoch 5, batch 100, train loss: 0.7218, valid loss: 0.9565\n",
      "Epoch 5, batch 200, train loss: 0.7190, valid loss: 0.9320\n",
      "VALID stats: acc: 74.96%, loss: 0.9006\n",
      "EPOCH 6\n",
      "Epoch 6, batch 100, train loss: 0.5586, valid loss: 0.9073\n",
      "Epoch 6, batch 200, train loss: 0.5794, valid loss: 0.8651\n",
      "VALID stats: acc: 77.44%, loss: 0.8348\n",
      "EPOCH 7\n",
      "Epoch 7, batch 100, train loss: 0.4207, valid loss: 0.8127\n",
      "Epoch 7, batch 200, train loss: 0.4347, valid loss: 0.8289\n",
      "VALID stats: acc: 77.51%, loss: 0.8043\n",
      "EPOCH 8\n",
      "Epoch 8, batch 100, train loss: 0.3124, valid loss: 0.8090\n",
      "Epoch 8, batch 200, train loss: 0.3648, valid loss: 0.8152\n",
      "VALID stats: acc: 78.56%, loss: 0.7768\n",
      "EPOCH 9\n",
      "Epoch 9, batch 100, train loss: 0.2455, valid loss: 0.7718\n",
      "Epoch 9, batch 200, train loss: 0.2730, valid loss: 0.7752\n",
      "VALID stats: acc: 78.95%, loss: 0.7688\n",
      "EPOCH 10\n",
      "Epoch 10, batch 100, train loss: 0.1780, valid loss: 0.7617\n",
      "Epoch 10, batch 200, train loss: 0.2128, valid loss: 0.7701\n",
      "VALID stats: acc: 79.85%, loss: 0.7600\n",
      "EPOCH 11\n",
      "Epoch 11, batch 100, train loss: 0.1443, valid loss: 0.7589\n",
      "Epoch 11, batch 200, train loss: 0.1609, valid loss: 0.7518\n",
      "VALID stats: acc: 80.35%, loss: 0.7632\n",
      "EPOCH 12\n",
      "Epoch 12, batch 100, train loss: 0.1216, valid loss: 0.7444\n",
      "Epoch 12, batch 200, train loss: 0.1424, valid loss: 0.7510\n",
      "VALID stats: acc: 80.42%, loss: 0.7487\n",
      "EPOCH 13\n",
      "Epoch 13, batch 100, train loss: 0.0897, valid loss: 0.7465\n",
      "Epoch 13, batch 200, train loss: 0.1193, valid loss: 0.7852\n",
      "VALID stats: acc: 80.32%, loss: 0.7867\n",
      "EPOCH 14\n",
      "Epoch 14, batch 100, train loss: 0.0760, valid loss: 0.7440\n",
      "Epoch 14, batch 200, train loss: 0.1010, valid loss: 0.7865\n",
      "VALID stats: acc: 81.29%, loss: 0.7554\n",
      "EPOCH 15\n",
      "Epoch 15, batch 100, train loss: 0.0769, valid loss: 0.7563\n",
      "Epoch 15, batch 200, train loss: 0.0778, valid loss: 0.7456\n",
      "VALID stats: acc: 80.32%, loss: 0.7763\n"
     ]
    },
    {
     "data": {
      "image/png": "[encoded data removed]",
      "text/plain": [
       "<Figure size 432x288 with 1 Axes>"
      ]
     },
     "metadata": {
      "needs_background": "light"
     },
     "output_type": "display_data"
    },
    {
     "name": "stdout",
     "output_type": "stream",
     "text": [
      "Restoring snapshot from epoch 12 with valid loss: 0.7487\n",
      "TEST stats: acc: 79.51%, loss: 0.7888\n",
      "TRAIN stats: acc: 99.81%, loss: 0.0254\n"
     ]
    },
    {
     "data": {
      "text/plain": [
       "(0.7950937950937951, 0.7887983587624012)"
      ]
     },
     "execution_count": 11,
     "metadata": {},
     "output_type": "execute_result"
    }
   ],
   "source": [
    "rmsprop = partial(optim.RMSprop, lr=DEFAULT_LR, weight_decay=DEFAULT_WEIGHT_DECAY)\n",
    "CelebrityTrainer(optimizer_lambda=rmsprop).train()"
   ]
  },
  {
   "cell_type": "markdown",
   "metadata": {},
   "source": [
    "It seems like the optimizers need different learning speeds to work, but all of them achieve very similar results."
   ]
  },
  {
   "cell_type": "markdown",
   "metadata": {},
   "source": [
    "# Task 4 - results (1 point)\n",
    "\n",
    "Prepare a confusion matrix of your network. Explain the values in it."
   ]
  },
  {
   "cell_type": "code",
   "execution_count": 8,
   "metadata": {},
   "outputs": [
    {
     "name": "stdout",
     "output_type": "stream",
     "text": [
      "0: 0000204\n",
      "1: 0000210\n",
      "2: 0000439\n",
      "3: 0000662\n",
      "4: 0001774\n",
      "5: 0004266\n",
      "6: 0004770\n",
      "7: 0004937\n",
      "8: 0005527\n",
      "9: 0006969\n",
      "10: 0010075\n",
      "11: 0010736\n",
      "12: 0068338\n",
      "13: 0177896\n",
      "14: 0221043\n",
      "15: 0221046\n",
      "16: 0358316\n",
      "17: 0424060\n",
      "18: 0515116\n",
      "19: 0519456\n",
      "20: 0688132\n",
      "21: 0829576\n",
      "22: 0913488\n",
      "23: 1015262\n",
      "24: 1312575\n",
      "25: 1374980\n",
      "26: 1415323\n",
      "27: 1433588\n"
     ]
    }
   ],
   "source": [
    "for i, cl in enumerate(classes):\n",
    "    print(f'{i}: {cl}')"
   ]
  },
  {
   "cell_type": "code",
   "execution_count": 9,
   "metadata": {
    "scrolled": false
   },
   "outputs": [
    {
     "data": {
      "image/png": "[encoded data removed]",
      "text/plain": [
       "<Figure size 720x720 with 2 Axes>"
      ]
     },
     "metadata": {
      "needs_background": "light"
     },
     "output_type": "display_data"
    }
   ],
   "source": [
    "plt.figure(figsize=(10, 10))\n",
    "plot_confusion_matrix(confusion_matrix)\n"
   ]
  },
  {
   "cell_type": "markdown",
   "metadata": {},
   "source": [
    "The confusion matrix graphically represents comparison of our predictions and ground truth.\n",
    "The larger the values on the diagonal, the better.\n",
    "\n",
    "We expect, that large values outside of diagonal imply similarity of classes.\n",
    "Below I present 3 of the confused classes. Although it's quite subjective, I believe they fit the hypothesis."
   ]
  },
  {
   "cell_type": "markdown",
   "metadata": {},
   "source": [
    "These two actors are somewhat alike and they usually wear similar haircuts.\n",
    "\n",
    "| class 10 | class 6 |\n",
    "|:---:|:---:|\n",
    "| ![10](img/1.jpg) | ![6](img/2.jpg) |"
   ]
  },
  {
   "cell_type": "markdown",
   "metadata": {},
   "source": [
    "These two actresses are actually sisters.\n",
    "\n",
    "| class 14 | class 15 |\n",
    "|:---:|:---:|\n",
    "| ![14](img/3.jpg) | ![15](img/4.jpg) |"
   ]
  },
  {
   "cell_type": "markdown",
   "metadata": {},
   "source": [
    "These two actors might get mixed up due to their blonde hair.\n",
    "\n",
    "| class 2 | class 3 |\n",
    "|:---:|:---:|\n",
    "| ![2](img/5.jpg) | ![3](img/6.jpg) |"
   ]
  }
 ],
 "metadata": {
  "kernelspec": {
   "display_name": "Python 3",
   "language": "python",
   "name": "python3"
  },
  "language_info": {
   "codemirror_mode": {
    "name": "ipython",
    "version": 3
   },
   "file_extension": ".py",
   "mimetype": "text/x-python",
   "name": "python",
   "nbconvert_exporter": "python",
   "pygments_lexer": "ipython3",
   "version": "3.8.2"
  }
 },
 "nbformat": 4,
 "nbformat_minor": 4
}
