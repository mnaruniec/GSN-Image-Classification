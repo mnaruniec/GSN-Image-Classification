{
 "cells": [
  {
   "cell_type": "code",
   "execution_count": 1,
   "metadata": {},
   "outputs": [],
   "source": [
    "!/bin/bash -c \\\n",
    "\"if [ ! -f dnn2020-1.zip ]; then wget https://www.mimuw.edu.pl/~ciebie/dnn2020-1.zip; fi\"\n",
    "\n",
    "!/bin/bash -c \\\n",
    "\"if [ ! -d dnn2020-1 ]; then unzip dnn2020-1.zip; fi\""
   ]
  },
  {
   "cell_type": "code",
   "execution_count": 2,
   "metadata": {},
   "outputs": [
    {
     "data": {
      "text/plain": [
       "1"
      ]
     },
     "execution_count": 2,
     "metadata": {},
     "output_type": "execute_result"
    }
   ],
   "source": [
    "import torch\n",
    "torch.cuda.device_count()"
   ]
  },
  {
   "cell_type": "markdown",
   "metadata": {},
   "source": [
    "# Task 1 - pre analysis (0.5 points)\n",
    "\n",
    "**Take a look (with an eye) at the data set and describe it. Does it look easy or difficult? Is the data properly labeled? What accuracy do you expect as a result and why?**"
   ]
  },
  {
   "cell_type": "markdown",
   "metadata": {},
   "source": [
    "The dataset looks difficult to me.\n",
    "\n",
    "I examined ten directories of the test set. At least nine of them contained pictures of wrong people. In most of them there were more than five pictures which either were wrong or I could not tell if they were correct. In one class (4937) I noticed more than five pictures of someone else, but very similar to the target.\n",
    "\n",
    "Even if we ignore these extreme examples, the dataset is very divergent. Within each class, there are pictures of people with different hairstyles, ages, makeups, glasses and facial expressions. There is a wide range of angles from which the pictures were taken, as well as image resolutions. There are also black and white pictures. Some of the images contain more than one person.\n",
    "\n",
    "Intuitively, the task of telling apart different people's faces seems much more difficult, than e.g. telling apart people and cars. The differences are much more subtle. That's why I don't expect accuracy much higher than the expected 75% within the constraints that we have."
   ]
  },
  {
   "cell_type": "markdown",
   "metadata": {},
   "source": [
    "# Task 2 - implementation (1.5 point)\n",
    "\n",
    "* **Implement a convolutional neural network.**\n",
    "* **The network should consist of no more than four convolutional layers and no more than two fully connected layers.**\n",
    "* **The neural networks should have two versions, one with batch normalization and another without it. Don’t use BatchNorm2d from nn module, implement batchnorm by basic operations (using only simple mathematical operations like +,-, ·, / and matrix multiplication) instead - it is fine if you use the train mode even for the test check.**"
   ]
  },
  {
   "cell_type": "code",
   "execution_count": 1,
   "metadata": {},
   "outputs": [],
   "source": [
    "import torch\n",
    "\n",
    "from torch.nn import Parameter\n",
    "\n",
    "\n",
    "class BatchNorm(torch.nn.Module):\n",
    "    eps = 1e-05\n",
    "\n",
    "    def __init__(self, parameter_shape, sum_dimensions):\n",
    "        super().__init__()\n",
    "        self.parameter_shape = parameter_shape\n",
    "        self.sum_dimensions = sum_dimensions\n",
    "        self.alpha = Parameter(torch.ones(*parameter_shape), requires_grad=True)\n",
    "        self.beta = Parameter(torch.zeros(*parameter_shape), requires_grad=True)\n",
    "\n",
    "    def forward(self, x):\n",
    "        mean = torch.mean(x, dim=self.sum_dimensions, keepdim=True)\n",
    "\n",
    "        var = (x - mean) ** 2\n",
    "        var = torch.mean(var, dim=self.sum_dimensions, keepdim=True)\n",
    "\n",
    "        assert mean.shape == self.parameter_shape\n",
    "        assert var.shape == self.parameter_shape\n",
    "\n",
    "        normalized = (x - mean) / torch.sqrt(var + self.eps)\n",
    "\n",
    "        assert normalized.shape == x.shape\n",
    "\n",
    "        return self.alpha * normalized + self.beta\n",
    "\n",
    "\n",
    "class BatchNorm1d(BatchNorm):\n",
    "    def __init__(self, num_features):\n",
    "        super().__init__(parameter_shape=(1, num_features), sum_dimensions=[0])\n",
    "\n",
    "\n",
    "class BatchNorm2d(BatchNorm):\n",
    "    def __init__(self, num_features):\n",
    "        super().__init__(parameter_shape=(1, num_features, 1, 1), sum_dimensions=[0, 2, 3])\n"
   ]
  },
  {
   "cell_type": "code",
   "execution_count": 3,
   "metadata": {},
   "outputs": [],
   "source": [
    "import os\n",
    "import random\n",
    "\n",
    "from copy import deepcopy\n",
    "from functools import partial\n",
    "from typing import Optional, Tuple\n",
    "\n",
    "import numpy as np\n",
    "import torch\n",
    "import torchvision\n",
    "from torch import nn, optim, Tensor\n",
    "from torch.utils.data import DataLoader\n",
    "from torchvision.datasets import ImageFolder\n",
    "from matplotlib import pyplot as plt\n",
    "import seaborn as sns\n",
    "\n",
    "\n",
    "DATA_PATH = 'dnn2020-1'\n",
    "\n",
    "TRAIN_PATH = DATA_PATH + '/train'\n",
    "VALID_PATH = DATA_PATH + '/valid'\n",
    "TEST_PATH = DATA_PATH + '/test'\n",
    "\n",
    "DEFAULT_CREATE_VALID = True\n",
    "DEFAULT_VALID_SIZE = 100\n",
    "\n",
    "NUM_CLASSES = 28\n",
    "IMG_SIZE = 250\n",
    "IMG_CHANNELS = 3\n",
    "\n",
    "DEFAULT_MB_SIZE = 32\n",
    "DEFAULT_STAT_PERIOD = 100\n",
    "\n",
    "DEFAULT_NUM_EPOCHS = 15\n",
    "DEFAULT_PATIENCE = 3\n",
    "DEFAULT_EPOCH_TRAIN_EVAL = False\n",
    "DEFAULT_LR = 0.0001\n",
    "DEFAULT_WEIGHT_DECAY = 0.001\n",
    "\n",
    "DEFAULT_CONV_CHANNELS = [128, 256, 256, 512]\n",
    "DEFAULT_CONV_SIZES = [3] * 4\n",
    "DEFAULT_MAX_POOL_SIZES = [3] * 4\n",
    "DEFAULT_FC_SIZES = [1024]\n",
    "DEFAULT_DROPOUT_P = 0.2\n",
    "\n",
    "DEVICE = torch.device(\"cuda\") if torch.cuda.is_available() else torch.device(\"cpu\")\n",
    "if not torch.cuda.is_available():\n",
    "    print('WARNING! CUDA is not available - running on CPU.')\n",
    "\n",
    "\n",
    "def prepare_data_dir(create_valid=DEFAULT_CREATE_VALID, valid_size=DEFAULT_VALID_SIZE) -> None:\n",
    "    \"\"\" If validation dir does not exist, use stratified subset from training data. \"\"\"\n",
    "    if create_valid and not os.path.isdir(VALID_PATH):\n",
    "        print('Validation set not found, creating.')\n",
    "\n",
    "        os.mkdir(VALID_PATH)\n",
    "\n",
    "        for d in os.listdir(TRAIN_PATH):\n",
    "            from_path = TRAIN_PATH + '/' + d\n",
    "            to_path = VALID_PATH + '/' + d\n",
    "\n",
    "            os.mkdir(to_path)\n",
    "\n",
    "            files = os.listdir(TRAIN_PATH + '/' + d)\n",
    "            random.shuffle(files)\n",
    "\n",
    "            for f in files[:valid_size]:\n",
    "                os.rename(from_path + '/' + f, to_path + '/' + f)\n",
    "\n",
    "    elif not create_valid and os.path.isdir(VALID_PATH):\n",
    "        print('Running without validation set, but ' + VALID_PATH + 'dir found. Recreate data dir before running.')\n",
    "        exit(1)\n",
    "\n",
    "\n",
    "class PreprocessDataLoader(DataLoader):\n",
    "    def __iter__(self):\n",
    "        batches = super().__iter__()\n",
    "        for b in batches:\n",
    "            yield self.preprocess(*b)\n",
    "\n",
    "    def preprocess(self, x, y):\n",
    "        return x, y\n",
    "\n",
    "\n",
    "class GPUDataLoader(PreprocessDataLoader):\n",
    "    def preprocess(self, x, y):\n",
    "        return x.float().to(DEVICE), y.to(DEVICE)\n",
    "\n",
    "\n",
    "def load_dir(\n",
    "        dir: str,\n",
    "        mb_size,\n",
    "        drop_last,\n",
    "        shuffle=True,\n",
    "        mean_var: Optional[Tuple[Tensor, Tensor]] = None\n",
    "):\n",
    "    if not mean_var:\n",
    "        dataset = ImageFolder(dir, transform=torchvision.transforms.ToTensor())\n",
    "\n",
    "        mean = 0\n",
    "        for img, _ in dataset:\n",
    "            mean += torch.mean(img, dim=(1, 2), keepdim=True)\n",
    "\n",
    "        assert mean.shape == (IMG_CHANNELS, 1, 1)\n",
    "        mean /= len(dataset)\n",
    "\n",
    "        var = 0\n",
    "        for img, _ in dataset:\n",
    "            var += torch.sum((img - mean) ** 2, dim=(1, 2), keepdim=True) / (250 ** 2)\n",
    "\n",
    "        assert var.shape == (IMG_CHANNELS, 1, 1)\n",
    "        var /= len(dataset)\n",
    "\n",
    "        mean = torch.squeeze(mean)\n",
    "        var = torch.squeeze(var)\n",
    "\n",
    "        print('Dataset stats')\n",
    "        print('Source: ' + dir)\n",
    "        print('Mean: ' + str(mean))\n",
    "        print('Var: ' + str(var))\n",
    "    else:\n",
    "        mean, var = mean_var\n",
    "\n",
    "    dataset = ImageFolder(dir, transform=torchvision.transforms.Compose([\n",
    "        torchvision.transforms.ToTensor(),\n",
    "        torchvision.transforms.Normalize(mean=mean, std=torch.sqrt(var)),\n",
    "    ]))\n",
    "\n",
    "    return (\n",
    "        GPUDataLoader(dataset, batch_size=mb_size, shuffle=shuffle, pin_memory=True, drop_last=drop_last),\n",
    "        dataset.classes,\n",
    "    )\n",
    "\n",
    "\n",
    "def plot_confusion_matrix(cm):\n",
    "    ax = plt.subplot()\n",
    "    sns.heatmap(cm, annot=True, ax=ax)\n",
    "\n",
    "    ax.set_xlabel('Predicted labels')\n",
    "    ax.set_ylabel('True labels')\n",
    "    ax.set_title('Confusion Matrix')\n",
    "\n",
    "    plt.show()\n",
    "\n",
    "\n",
    "class CelebrityNet(torch.nn.Module):\n",
    "    def __init__(\n",
    "            self,\n",
    "            batch_norm=True,\n",
    "            custom_batch_norm=True,\n",
    "            conv_channels=DEFAULT_CONV_CHANNELS,\n",
    "            conv_sizes=DEFAULT_CONV_SIZES,\n",
    "            max_pool_sizes=DEFAULT_MAX_POOL_SIZES,\n",
    "            fc_sizes=DEFAULT_FC_SIZES,\n",
    "            dropout_p=DEFAULT_DROPOUT_P,\n",
    "    ):\n",
    "        super().__init__()\n",
    "\n",
    "        assert len(max_pool_sizes) == len(conv_sizes)\n",
    "        assert len(conv_channels) == len(conv_sizes)\n",
    "\n",
    "        img_size = IMG_SIZE\n",
    "\n",
    "        self.layers = []\n",
    "\n",
    "        for conv_size, in_channels, out_channels, pool_size in zip(\n",
    "                conv_sizes, [IMG_CHANNELS] + conv_channels, conv_channels, max_pool_sizes\n",
    "        ):\n",
    "            self.layers += [\n",
    "                nn.Conv2d(in_channels=in_channels, out_channels=out_channels, kernel_size=conv_size),\n",
    "                nn.MaxPool2d(kernel_size=pool_size),  # size 82\n",
    "                nn.ReLU(),\n",
    "            ]\n",
    "\n",
    "            if batch_norm:\n",
    "                if custom_batch_norm:\n",
    "                    self.layers.append(BatchNorm2d(num_features=out_channels))\n",
    "                else:\n",
    "                    self.layers.append(nn.BatchNorm2d(num_features=out_channels, track_running_stats=False))\n",
    "\n",
    "            self.layers.append(nn.Dropout2d(p=dropout_p))\n",
    "\n",
    "            img_size = img_size - conv_size + 1\n",
    "            img_size //= pool_size\n",
    "\n",
    "        self.layers.append(nn.Flatten())\n",
    "\n",
    "        fc_in = img_size * img_size * conv_channels[-1]\n",
    "\n",
    "        for in_size, out_size in zip([fc_in] + fc_sizes, fc_sizes):\n",
    "            self.layers += [\n",
    "                nn.Linear(in_features=in_size, out_features=out_size),\n",
    "                nn.ReLU(),\n",
    "            ]\n",
    "\n",
    "            if batch_norm:\n",
    "                if custom_batch_norm:\n",
    "                    self.layers.append(BatchNorm1d(num_features=out_size))\n",
    "                else:\n",
    "                    self.layers.append(nn.BatchNorm1d(num_features=out_size, track_running_stats=True))\n",
    "\n",
    "        self.layers.append(nn.Linear(in_features=fc_sizes[-1], out_features=NUM_CLASSES))\n",
    "\n",
    "        self.module = torch.nn.Sequential(*self.layers)\n",
    "\n",
    "    def forward(self, x: torch.Tensor):\n",
    "        return self.module(x)\n",
    "\n",
    "\n",
    "class CelebrityTrainer:\n",
    "    def __init__(\n",
    "            self,\n",
    "            optimizer_lambda = partial(optim.Adam, lr=DEFAULT_LR, weight_decay=DEFAULT_WEIGHT_DECAY, amsgrad=True),\n",
    "            mb_size=DEFAULT_MB_SIZE,\n",
    "            num_epochs=DEFAULT_NUM_EPOCHS,\n",
    "            patience=DEFAULT_PATIENCE,\n",
    "            has_valid=DEFAULT_CREATE_VALID,\n",
    "            stat_period=DEFAULT_STAT_PERIOD,\n",
    "            epoch_train_eval=DEFAULT_EPOCH_TRAIN_EVAL,\n",
    "            **net_kwargs,\n",
    "    ):\n",
    "        self.net_kwargs = net_kwargs\n",
    "\n",
    "        self.optimizer_lambda = optimizer_lambda\n",
    "\n",
    "        self.mb_size = mb_size\n",
    "        self.num_epochs = num_epochs\n",
    "        self.patience = patience\n",
    "        self.has_valid = has_valid\n",
    "        self.stat_period = stat_period\n",
    "        self.epoch_train_eval = epoch_train_eval\n",
    "\n",
    "        self.net = None\n",
    "        self.criterion = None\n",
    "        self.optimizer = None\n",
    "        self.classes = None\n",
    "        self.confusion_matrix = None\n",
    "        self.train_dl, self.valid_dl, self.test_dl = self.get_dataloaders()\n",
    "\n",
    "    def init_net(self):\n",
    "        self.net = CelebrityNet(**self.net_kwargs)\n",
    "        self.net.train()\n",
    "        self.net.to(DEVICE)\n",
    "\n",
    "        self.criterion = nn.CrossEntropyLoss()\n",
    "        self.optimizer = self.optimizer_lambda(self.net.parameters())\n",
    "\n",
    "    def get_dataloaders(self) -> (DataLoader, DataLoader, DataLoader):\n",
    "        #  calculated on previous runs\n",
    "        mean_var = (torch.tensor([0.47, 0.38, 0.32]), torch.tensor([0.3, 0.25, 0.25]))\n",
    "\n",
    "        train, cl1 = load_dir(TRAIN_PATH, mean_var=mean_var, drop_last=True, mb_size=self.mb_size)\n",
    "        valid, cl2 = load_dir(\n",
    "            VALID_PATH if self.has_valid else TEST_PATH, mean_var=mean_var, drop_last=True, mb_size=self.mb_size\n",
    "        )\n",
    "        test, cl3 = load_dir(TEST_PATH, mean_var=mean_var, drop_last=False, mb_size=self.mb_size)\n",
    "\n",
    "        assert cl1 == cl2\n",
    "        assert cl2 == cl3\n",
    "\n",
    "        self.classes = cl1\n",
    "\n",
    "        return train, valid, test\n",
    "\n",
    "    def evaluate_on(self, dataloader: DataLoader, full=False, store_cm=False) -> (float, int, float):\n",
    "        with torch.no_grad():\n",
    "            net = self.net\n",
    "            net.eval()\n",
    "\n",
    "            correct = 0\n",
    "            total = 0\n",
    "\n",
    "            running_loss = 0.\n",
    "            i = 0\n",
    "\n",
    "            if store_cm:\n",
    "                self.confusion_matrix = np.zeros((NUM_CLASSES, NUM_CLASSES), dtype=np.int)\n",
    "\n",
    "            for data in dataloader:\n",
    "                i += 1\n",
    "                images, labels = data\n",
    "                outputs = net(images)\n",
    "                _, predicted = torch.max(outputs.data, 1)\n",
    "                total += labels.size(0)\n",
    "                correct += (predicted == labels).sum().item()\n",
    "\n",
    "                loss = self.criterion(outputs, labels)\n",
    "                running_loss += loss.item()\n",
    "\n",
    "                if store_cm:\n",
    "                    for true, pred in zip(labels, predicted):\n",
    "                        self.confusion_matrix[true, pred] += 1\n",
    "\n",
    "                if not full and i >= self.stat_period:\n",
    "                    break\n",
    "\n",
    "        net.train()\n",
    "        return correct / total, total, running_loss / i\n",
    "\n",
    "    def run_evaluation(self, dataloader, ds_name: str, store_cm=False):\n",
    "        acc, total, loss = self.evaluate_on(dataloader, full=True, store_cm=store_cm)\n",
    "\n",
    "        print(f'{ds_name} stats: acc: {(100 * acc):.2f}%, loss: {loss:.4f}')\n",
    "\n",
    "        return acc, loss\n",
    "\n",
    "    def train_batch(self, data):\n",
    "        inputs, labels = data\n",
    "\n",
    "        self.net.train()\n",
    "        self.optimizer.zero_grad()\n",
    "\n",
    "        outputs = self.net(inputs)\n",
    "        loss = self.criterion(outputs, labels)\n",
    "\n",
    "        loss.backward()\n",
    "        self.optimizer.step()\n",
    "\n",
    "        return loss.item()\n",
    "\n",
    "    def train(self, reset_net=True, plot_loss=True):\n",
    "        if reset_net:\n",
    "            self.init_net()\n",
    "\n",
    "        train_losses = []\n",
    "        valid_losses = []\n",
    "        epoch_losses = []\n",
    "        epoch_x = 0\n",
    "        epoch_xs = []\n",
    "\n",
    "        last_epoch = 0\n",
    "        best_state_dict = None\n",
    "        best_epoch = 0\n",
    "        best_epoch_loss = 10 ** 9\n",
    "\n",
    "        try:\n",
    "            for epoch in range(1, self.num_epochs + 1):\n",
    "                print(f'EPOCH {epoch}')\n",
    "\n",
    "                train_loss = 0.0\n",
    "                last_epoch = epoch\n",
    "\n",
    "                for i, data in enumerate(self.train_dl, 0):\n",
    "                    train_loss += self.train_batch(data)\n",
    "\n",
    "                    if i % self.stat_period == self.stat_period - 1:\n",
    "                        epoch_x += 1\n",
    "\n",
    "                        train_loss = train_loss / self.stat_period\n",
    "                        train_losses.append(train_loss)\n",
    "\n",
    "                        acc, total, valid_loss = self.evaluate_on(self.valid_dl)\n",
    "\n",
    "                        valid_losses.append(valid_loss)\n",
    "\n",
    "                        print('Epoch %d, batch %d, train loss: %.4f, valid loss: %.4f' %\n",
    "                              (epoch, i + 1, train_loss, valid_loss))\n",
    "\n",
    "                        train_loss = 0.0\n",
    "\n",
    "                _, epoch_loss = self.run_evaluation(self.valid_dl, 'VALID')\n",
    "\n",
    "                epoch_losses.append(epoch_loss)\n",
    "                epoch_xs.append(epoch_x)\n",
    "\n",
    "                # early stopping & snapshotting\n",
    "                if epoch_loss < best_epoch_loss:\n",
    "                    best_epoch_loss = epoch_loss\n",
    "                    best_epoch = epoch\n",
    "                    best_state_dict = deepcopy(self.net.state_dict())\n",
    "                elif len(epoch_losses) > self.patience:\n",
    "                    if all((l > best_epoch_loss for l in epoch_losses[-(self.patience + 1):])):\n",
    "                        print(f'No improvement in last {self.patience + 1} epochs, early stopping.')\n",
    "                        break\n",
    "\n",
    "                if self.epoch_train_eval:\n",
    "                    self.run_evaluation(self.train_dl, 'TRAIN')\n",
    "\n",
    "        finally:\n",
    "            if plot_loss:\n",
    "                plt.plot(\n",
    "                    range(len(train_losses)), train_losses, 'r',\n",
    "                    range(len(valid_losses)), valid_losses, 'b',\n",
    "                    epoch_xs, epoch_losses, 'g',\n",
    "                )\n",
    "                plt.show()\n",
    "\n",
    "            if best_state_dict and best_epoch != last_epoch:\n",
    "                print(f'Restoring snapshot from epoch {best_epoch} with valid loss: {best_epoch_loss:.4f}')\n",
    "                self.net.load_state_dict(best_state_dict)\n",
    "\n",
    "            acc, loss = self.run_evaluation(self.test_dl, 'TEST', store_cm=True)\n",
    "            self.run_evaluation(self.train_dl, 'TRAIN')\n",
    "\n",
    "            return acc, loss\n"
   ]
  },
  {
   "cell_type": "markdown",
   "metadata": {},
   "source": [
    "* **Describe your design.**"
   ]
  },
  {
   "cell_type": "markdown",
   "metadata": {},
   "source": [
    "The network consists of 4 convolution layers and 2 fully connected layers. Convolution layers have non-decreasing number of channels, TODO, while the hidden FC layer has TODO neurons. I use ReLU as the activation function.\n",
    "\n",
    "As displayed on the loss graph below, the training and validation losses split at some point. It looks kind of like the model might be too large and overfitting, but the validation loss is still slowly decreasing. I did not manage to create a model which would be smaller, avoid the split and achieve better accuracy in the 15 epoch limit. It seems like expanding the model actually helps the accuracy.\n",
    "\n",
    "I added dropout with p = 0.2 to every layer. It stabilizes the loss diagram and prevents sudden spikes, but larger p decreases the final accuracy.\n",
    "\n",
    "For the training I am using Adam optimizer TODO.\n",
    "I took a stratified validation set with 100 samples from each class in the training set. The learning uses early stopping with patience = 3 and snapshotting, but it's rarely used in the 15 epoch cap."
   ]
  },
  {
   "cell_type": "code",
   "execution_count": 5,
   "metadata": {},
   "outputs": [],
   "source": [
    "prepare_data_dir()"
   ]
  },
  {
   "cell_type": "markdown",
   "metadata": {},
   "source": [
    "# Task 3 - experiments (1 points)\n",
    "\n",
    "Using no more than 15 epochs perform experiments. Answer the following questions:\n",
    "* **What is the accuracy and average loss of your network? Is loss different on test and train? The best version of your network should reach at least 75% accuracy on the test set. Illustrate your results with graphs.**"
   ]
  },
  {
   "cell_type": "code",
   "execution_count": 4,
   "metadata": {},
   "outputs": [
    {
     "name": "stdout",
     "output_type": "stream",
     "text": [
      "EPOCH 1\n",
      "Epoch 1, batch 100, train loss: 2.9840, valid loss: 2.5522\n",
      "Epoch 1, batch 200, train loss: 2.5429, valid loss: 2.2064\n",
      "VALID stats: acc: 42.13%, loss: 2.0504\n",
      "EPOCH 2\n",
      "Epoch 2, batch 100, train loss: 1.9645, valid loss: 1.7754\n",
      "Epoch 2, batch 200, train loss: 1.7785, valid loss: 1.6093\n",
      "VALID stats: acc: 56.90%, loss: 1.5217\n",
      "EPOCH 3\n"
     ]
    },
    {
     "data": {
      "image/png": "[encoded data removed]",
      "text/plain": [
       "<Figure size 432x288 with 1 Axes>"
      ]
     },
     "metadata": {
      "needs_background": "light"
     },
     "output_type": "display_data"
    },
    {
     "name": "stdout",
     "output_type": "stream",
     "text": [
      "Restoring snapshot from epoch 2 with valid loss: 1.5217\n",
      "TEST stats: acc: 58.33%, loss: 1.5111\n",
      "TRAIN stats: acc: 66.77%, loss: 1.1954\n"
     ]
    }
   ],
   "source": [
    "trainer = None\n",
    "\n",
    "try:\n",
    "    trainer = CelebrityTrainer()\n",
    "    trainer.train()\n",
    "\n",
    "    confusion_matrix = trainer.confusion_matrix\n",
    "    classes = trainer.classes\n",
    "finally:\n",
    "    if trainer:\n",
    "        del trainer"
   ]
  },
  {
   "cell_type": "markdown",
   "metadata": {},
   "source": [
    "* **What is the impact of batch size on accuracy?**"
   ]
  },
  {
   "cell_type": "code",
   "execution_count": null,
   "metadata": {},
   "outputs": [
    {
     "name": "stdout",
     "output_type": "stream",
     "text": [
      "MB_SIZE: 8\n",
      "EPOCH 1\n",
      "VALID stats: acc: 38.57%, loss: 2.1457\n",
      "EPOCH 2\n",
      "VALID stats: acc: 52.25%, loss: 1.6788\n",
      "EPOCH 3\n",
      "VALID stats: acc: 60.79%, loss: 1.3681\n",
      "EPOCH 4\n",
      "VALID stats: acc: 67.86%, loss: 1.1742\n",
      "EPOCH 5\n",
      "VALID stats: acc: 69.11%, loss: 1.0885\n",
      "EPOCH 6\n"
     ]
    }
   ],
   "source": [
    "mb_sizes = [8, 16, 32, 64, 96]\n",
    "accs = []\n",
    "\n",
    "for mb_size in mb_sizes:\n",
    "    print(f'MB_SIZE: {mb_size}')\n",
    "    acc, _ = CelebrityTrainer(mb_size=mb_size, stat_period=10000).train(plot_loss=False)\n",
    "    accs.append(acc)\n",
    "    \n",
    "for mb_size, acc in zip(mb_sizes, accs):\n",
    "    print(f'\\nAcc for mb_size={mb_size} is {(acc * 100):.2f}%.')\n",
    "    \n",
    "plt.scatter(mb_sizes, accs)"
   ]
  },
  {
   "cell_type": "markdown",
   "metadata": {},
   "source": [
    "* **What is the impact of batch normalization on accuracy and learning speed?**"
   ]
  },
  {
   "cell_type": "code",
   "execution_count": null,
   "metadata": {},
   "outputs": [],
   "source": [
    "CelebrityTrainer(batch_norm=False).train()"
   ]
  },
  {
   "cell_type": "markdown",
   "metadata": {},
   "source": [
    "* **What optimizer gives the best results?**"
   ]
  },
  {
   "cell_type": "code",
   "execution_count": null,
   "metadata": {},
   "outputs": [],
   "source": [
    "adam_no_amsgrad = partial(optim.Adam, lr=DEFAULT_LR, weight_decay=DEFAULT_WEIGHT_DECAY, amsgrad=False)\n",
    "CelebrityTrainer(optimizer_lambda=adam_amsgrad).train()"
   ]
  },
  {
   "cell_type": "code",
   "execution_count": null,
   "metadata": {},
   "outputs": [],
   "source": [
    "sgd = partial(optim.SGD, lr=100 * DEFAULT_LR, weight_decay=DEFAULT_WEIGHT_DECAY)\n",
    "CelebrityTrainer(optimizer_lambda=sgd).train()"
   ]
  },
  {
   "cell_type": "code",
   "execution_count": null,
   "metadata": {},
   "outputs": [],
   "source": [
    "sgd_momentum = partial(optim.SGD, momentum=0.9, lr=100 * DEFAULT_LR, weight_decay=DEFAULT_WEIGHT_DECAY)\n",
    "CelebrityTrainer(optimizer_lambda=sgd_momentum).train()"
   ]
  },
  {
   "cell_type": "code",
   "execution_count": null,
   "metadata": {},
   "outputs": [],
   "source": [
    "adagrad = partial(optim.Adam, lr=DEFAULT_LR, weight_decay=DEFAULT_WEIGHT_DECAY)\n",
    "CelebrityTrainer(optimizer_lambda=adagrad).train()"
   ]
  },
  {
   "cell_type": "code",
   "execution_count": null,
   "metadata": {},
   "outputs": [],
   "source": [
    "rmsprop = partial(optim.Adam, lr=DEFAULT_LR, weight_decay=DEFAULT_WEIGHT_DECAY)\n",
    "CelebrityTrainer(optimizer_lambda=rmsprop).train()"
   ]
  },
  {
   "cell_type": "markdown",
   "metadata": {},
   "source": [
    "# Task 4 - results (1 point)\n",
    "\n",
    "Prepare a confusion matrix of your network. Explain the values in it."
   ]
  },
  {
   "cell_type": "code",
   "execution_count": 8,
   "metadata": {},
   "outputs": [
    {
     "name": "stdout",
     "output_type": "stream",
     "text": [
      "0: 0000204\n",
      "1: 0000210\n",
      "2: 0000439\n",
      "3: 0000662\n",
      "4: 0001774\n",
      "5: 0004266\n",
      "6: 0004770\n",
      "7: 0004937\n",
      "8: 0005527\n",
      "9: 0006969\n",
      "10: 0010075\n",
      "11: 0010736\n",
      "12: 0068338\n",
      "13: 0177896\n",
      "14: 0221043\n",
      "15: 0221046\n",
      "16: 0358316\n",
      "17: 0424060\n",
      "18: 0515116\n",
      "19: 0519456\n",
      "20: 0688132\n",
      "21: 0829576\n",
      "22: 0913488\n",
      "23: 1015262\n",
      "24: 1312575\n",
      "25: 1374980\n",
      "26: 1415323\n",
      "27: 1433588\n"
     ]
    }
   ],
   "source": [
    "for i, cl in enumerate(classes):\n",
    "    print(f'{i}: {cl}')"
   ]
  },
  {
   "cell_type": "code",
   "execution_count": 10,
   "metadata": {
    "scrolled": false
   },
   "outputs": [
    {
     "data": {
      "image/png": "[encoded data removed]",
      "text/plain": [
       "<Figure size 720x720 with 2 Axes>"
      ]
     },
     "metadata": {
      "needs_background": "light"
     },
     "output_type": "display_data"
    }
   ],
   "source": [
    "plt.figure(figsize=(10, 10))\n",
    "plot_confusion_matrix(confusion_matrix)\n"
   ]
  },
  {
   "cell_type": "markdown",
   "metadata": {},
   "source": [
    "The confusion matrix graphically represents comparison of our predictions and ground truth.\n",
    "The larger the values on the diagonal, the better.\n",
    "\n",
    "We expect, that large values outside of diagonal imply similarity of classes.\n",
    "Below I present 3 of the confused classes. Although it's subjective, I believe it fits the hypothesis."
   ]
  },
  {
   "cell_type": "markdown",
   "metadata": {},
   "source": [
    "These two actors are somewhat similar and they usually wear similar haircuts.\n",
    "\n",
    "| class 10 | class 6 |\n",
    "|:---:|:---:|\n",
    "| ![10](dnn2020-1/test/0010075/003.jpg) | ![6](dnn2020-1/test/0004770/004.jpg) |"
   ]
  },
  {
   "cell_type": "markdown",
   "metadata": {},
   "source": [
    "These two actresses are almost always seen in blonde hair.\n",
    "\n",
    "| class 12 | class 8 |\n",
    "|:---:|:---:|\n",
    "| ![12](dnn2020-1/test/0068338/004.jpg) | ![6](dnn2020-1/test/0515116/003.jpg) |"
   ]
  },
  {
   "cell_type": "markdown",
   "metadata": {},
   "source": [
    "These two actresses are actually sisters.\n",
    "\n",
    "| class 14 | class 15 |\n",
    "|:---:|:---:|\n",
    "| ![14](dnn2020-1/test/0221043/002.jpg) | ![15](dnn2020-1/test/0221046/003.jpg) |"
   ]
  }
 ],
 "metadata": {
  "kernelspec": {
   "display_name": "Python 3",
   "language": "python",
   "name": "python3"
  },
  "language_info": {
   "codemirror_mode": {
    "name": "ipython",
    "version": 3
   },
   "file_extension": ".py",
   "mimetype": "text/x-python",
   "name": "python",
   "nbconvert_exporter": "python",
   "pygments_lexer": "ipython3",
   "version": "3.6.9"
  }
 },
 "nbformat": 4,
 "nbformat_minor": 4
}
